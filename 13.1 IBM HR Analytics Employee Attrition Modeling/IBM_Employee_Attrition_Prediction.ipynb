{
 "cells": [
  {
   "cell_type": "markdown",
   "metadata": {},
   "source": [
    "<img src=\"http://cfs22.simplicdn.net/ice9/new_logo.svgz \"/>\n",
    "\n",
    "# Assignment: IBM HR Analytics Employee Attrition Modeling\n",
    "\n",
    "*The comments/sections provided are your cues to perform the assignment. You don't need to limit yourself to the number of rows/cells provided. You can add additional rows in each section to add more lines of code.*\n",
    "\n",
    "*If at any point in time you need help on solving this assignment, view our demo video to understand the different steps of the code.*\n",
    "\n",
    "**Happy coding!**\n",
    "\n",
    "* * *"
   ]
  },
  {
   "cell_type": "markdown",
   "metadata": {},
   "source": [
    "# IBM HR Analytics Employee Attrition Modeling.\n",
    "\n",
    "__DESCRIPTION__\n",
    "\n",
    "IBM is an American MNC operating in around 170 countries with major business vertical as computing, software, and hardware.\n",
    "Attrition is a major risk to service-providing organizations where trained and experienced people are the assets of the company. The organization would like to identify the factors which influence the attrition of employees.\n",
    "\n",
    "__Data Dictionary:__\n",
    "\n",
    "    Age: Age of employee\n",
    "    Attrition: Employee attrition status\n",
    "    Department: Department of work\n",
    "    DistanceFromHome\n",
    "    Education: 1-Below College; 2- College; 3-Bachelor; 4-Master; 5-Doctor;\n",
    "    EducationField\n",
    "    EnvironmentSatisfaction: 1-Low; 2-Medium; 3-High; 4-Very High;\n",
    "    JobSatisfaction: 1-Low; 2-Medium; 3-High; 4-Very High;\n",
    "    MaritalStatus\n",
    "    MonthlyIncome\n",
    "    NumCompaniesWorked: Number of companies worked prior to IBM\n",
    "    WorkLifeBalance: 1-Bad; 2-Good; 3-Better; 4-Best;\n",
    "    YearsAtCompany: Current years of service in IBM\n",
    "\n",
    "__Analysis Task:__\n",
    "- Import attrition dataset and import libraries such as pandas, matplotlib.pyplot, numpy, and seaborn.\n",
    "- Exploratory data analysis\n",
    "\n",
    "    * Find the age distribution of employees in IBM\n",
    "    * Explore attrition by age\n",
    "    * Explore data for Left employees\n",
    "    * Find out the distribution of employees by the education field\n",
    "    * Give a bar chart for the number of married and unmarried employees\n",
    "\n",
    "- Build up a logistic regression model to predict which employees are likely to attrite."
   ]
  },
  {
   "cell_type": "markdown",
   "metadata": {
    "toc": true
   },
   "source": [
    "<h1>Table of Contents<span class=\"tocSkip\"></span></h1>\n",
    "<div class=\"toc\"><ul class=\"toc-item\"><li><span><a href=\"#Import-libraries-and-dataset\" data-toc-modified-id=\"Import-libraries-and-dataset-1\"><span class=\"toc-item-num\">1&nbsp;&nbsp;</span>Import libraries and dataset</a></span></li><li><span><a href=\"#Exploratory-data-analysis\" data-toc-modified-id=\"Exploratory-data-analysis-2\"><span class=\"toc-item-num\">2&nbsp;&nbsp;</span>Exploratory data analysis</a></span><ul class=\"toc-item\"><li><span><a href=\"#Age-distribution-of-Employees\" data-toc-modified-id=\"Age-distribution-of-Employees-2.1\"><span class=\"toc-item-num\">2.1&nbsp;&nbsp;</span>Age distribution of Employees</a></span></li><li><span><a href=\"#Explore-attrition-by-age\" data-toc-modified-id=\"Explore-attrition-by-age-2.2\"><span class=\"toc-item-num\">2.2&nbsp;&nbsp;</span>Explore attrition by age</a></span></li><li><span><a href=\"#Explore-data-for-Left-employees\" data-toc-modified-id=\"Explore-data-for-Left-employees-2.3\"><span class=\"toc-item-num\">2.3&nbsp;&nbsp;</span>Explore data for Left employees</a></span></li><li><span><a href=\"#Find-out-the-distribution-of-employees-by-the-education-field\" data-toc-modified-id=\"Find-out-the-distribution-of-employees-by-the-education-field-2.4\"><span class=\"toc-item-num\">2.4&nbsp;&nbsp;</span>Find out the distribution of employees by the education field</a></span></li><li><span><a href=\"#Give-a-bar-chart-for-the-number-of-married-and-unmarried-employees\" data-toc-modified-id=\"Give-a-bar-chart-for-the-number-of-married-and-unmarried-employees-2.5\"><span class=\"toc-item-num\">2.5&nbsp;&nbsp;</span>Give a bar chart for the number of married and unmarried employees</a></span></li></ul></li><li><span><a href=\"#Build-up-a-logistic-regression-model-to-predict-which-employees-are-likely-to-attrite\" data-toc-modified-id=\"Build-up-a-logistic-regression-model-to-predict-which-employees-are-likely-to-attrite-3\"><span class=\"toc-item-num\">3&nbsp;&nbsp;</span>Build up a logistic regression model to predict which employees are likely to attrite</a></span><ul class=\"toc-item\"><li><span><a href=\"#Data-Preprocessing\" data-toc-modified-id=\"Data-Preprocessing-3.1\"><span class=\"toc-item-num\">3.1&nbsp;&nbsp;</span>Data Preprocessing</a></span></li><li><span><a href=\"#Train-and-Test-data\" data-toc-modified-id=\"Train-and-Test-data-3.2\"><span class=\"toc-item-num\">3.2&nbsp;&nbsp;</span>Train and Test data</a></span></li><li><span><a href=\"#Build-and-Evaluate-Model\" data-toc-modified-id=\"Build-and-Evaluate-Model-3.3\"><span class=\"toc-item-num\">3.3&nbsp;&nbsp;</span>Build and Evaluate Model</a></span></li></ul></li></ul></div>"
   ]
  },
  {
   "cell_type": "markdown",
   "metadata": {},
   "source": [
    "## Import libraries and dataset"
   ]
  },
  {
   "cell_type": "code",
   "execution_count": 1,
   "metadata": {
    "ExecuteTime": {
     "end_time": "2021-07-14T07:23:11.230970Z",
     "start_time": "2021-07-14T07:23:06.960964Z"
    }
   },
   "outputs": [],
   "source": [
    "import numpy as np \n",
    "import pandas as pd \n",
    "import matplotlib.pyplot as plt\n",
    "%matplotlib inline\n",
    "from patsy import dmatrices\n",
    "import sklearn\n",
    "import seaborn as sns"
   ]
  },
  {
   "cell_type": "code",
   "execution_count": 2,
   "metadata": {
    "ExecuteTime": {
     "end_time": "2021-07-14T07:23:11.250970Z",
     "start_time": "2021-07-14T07:23:11.230970Z"
    }
   },
   "outputs": [],
   "source": [
    "dataframe=pd.read_csv(\"D:\\\\NIPUN_SC_REC\\\\3_Practice_Project\\\\Course_5_Data Science with Python\\\\Practice_projects\\\\Lesson 13.1_practice_Project\\\\IBM Attrition Data.csv\")"
   ]
  },
  {
   "cell_type": "markdown",
   "metadata": {},
   "source": [
    "## Exploratory data analysis"
   ]
  },
  {
   "cell_type": "code",
   "execution_count": 3,
   "metadata": {
    "ExecuteTime": {
     "end_time": "2021-07-14T07:23:11.400971Z",
     "start_time": "2021-07-14T07:23:11.250970Z"
    },
    "scrolled": true
   },
   "outputs": [
    {
     "data": {
      "text/html": [
       "<div>\n",
       "<style scoped>\n",
       "    .dataframe tbody tr th:only-of-type {\n",
       "        vertical-align: middle;\n",
       "    }\n",
       "\n",
       "    .dataframe tbody tr th {\n",
       "        vertical-align: top;\n",
       "    }\n",
       "\n",
       "    .dataframe thead th {\n",
       "        text-align: right;\n",
       "    }\n",
       "</style>\n",
       "<table border=\"1\" class=\"dataframe\">\n",
       "  <thead>\n",
       "    <tr style=\"text-align: right;\">\n",
       "      <th></th>\n",
       "      <th>Age</th>\n",
       "      <th>Attrition</th>\n",
       "      <th>Department</th>\n",
       "      <th>DistanceFromHome</th>\n",
       "      <th>Education</th>\n",
       "      <th>EducationField</th>\n",
       "      <th>EnvironmentSatisfaction</th>\n",
       "      <th>JobSatisfaction</th>\n",
       "      <th>MaritalStatus</th>\n",
       "      <th>MonthlyIncome</th>\n",
       "      <th>NumCompaniesWorked</th>\n",
       "      <th>WorkLifeBalance</th>\n",
       "      <th>YearsAtCompany</th>\n",
       "    </tr>\n",
       "  </thead>\n",
       "  <tbody>\n",
       "    <tr>\n",
       "      <th>0</th>\n",
       "      <td>41</td>\n",
       "      <td>Yes</td>\n",
       "      <td>Sales</td>\n",
       "      <td>1</td>\n",
       "      <td>2</td>\n",
       "      <td>Life Sciences</td>\n",
       "      <td>2</td>\n",
       "      <td>4</td>\n",
       "      <td>Single</td>\n",
       "      <td>5993</td>\n",
       "      <td>8</td>\n",
       "      <td>1</td>\n",
       "      <td>6</td>\n",
       "    </tr>\n",
       "    <tr>\n",
       "      <th>1</th>\n",
       "      <td>49</td>\n",
       "      <td>No</td>\n",
       "      <td>Research &amp; Development</td>\n",
       "      <td>8</td>\n",
       "      <td>1</td>\n",
       "      <td>Life Sciences</td>\n",
       "      <td>3</td>\n",
       "      <td>2</td>\n",
       "      <td>Married</td>\n",
       "      <td>5130</td>\n",
       "      <td>1</td>\n",
       "      <td>3</td>\n",
       "      <td>10</td>\n",
       "    </tr>\n",
       "    <tr>\n",
       "      <th>2</th>\n",
       "      <td>37</td>\n",
       "      <td>Yes</td>\n",
       "      <td>Research &amp; Development</td>\n",
       "      <td>2</td>\n",
       "      <td>2</td>\n",
       "      <td>Other</td>\n",
       "      <td>4</td>\n",
       "      <td>3</td>\n",
       "      <td>Single</td>\n",
       "      <td>2090</td>\n",
       "      <td>6</td>\n",
       "      <td>3</td>\n",
       "      <td>0</td>\n",
       "    </tr>\n",
       "    <tr>\n",
       "      <th>3</th>\n",
       "      <td>33</td>\n",
       "      <td>No</td>\n",
       "      <td>Research &amp; Development</td>\n",
       "      <td>3</td>\n",
       "      <td>4</td>\n",
       "      <td>Life Sciences</td>\n",
       "      <td>4</td>\n",
       "      <td>3</td>\n",
       "      <td>Married</td>\n",
       "      <td>2909</td>\n",
       "      <td>1</td>\n",
       "      <td>3</td>\n",
       "      <td>8</td>\n",
       "    </tr>\n",
       "    <tr>\n",
       "      <th>4</th>\n",
       "      <td>27</td>\n",
       "      <td>No</td>\n",
       "      <td>Research &amp; Development</td>\n",
       "      <td>2</td>\n",
       "      <td>1</td>\n",
       "      <td>Medical</td>\n",
       "      <td>1</td>\n",
       "      <td>2</td>\n",
       "      <td>Married</td>\n",
       "      <td>3468</td>\n",
       "      <td>9</td>\n",
       "      <td>3</td>\n",
       "      <td>2</td>\n",
       "    </tr>\n",
       "  </tbody>\n",
       "</table>\n",
       "</div>"
      ],
      "text/plain": [
       "   Age Attrition              Department  DistanceFromHome  Education  \\\n",
       "0   41       Yes                   Sales                 1          2   \n",
       "1   49        No  Research & Development                 8          1   \n",
       "2   37       Yes  Research & Development                 2          2   \n",
       "3   33        No  Research & Development                 3          4   \n",
       "4   27        No  Research & Development                 2          1   \n",
       "\n",
       "  EducationField  EnvironmentSatisfaction  JobSatisfaction MaritalStatus  \\\n",
       "0  Life Sciences                        2                4        Single   \n",
       "1  Life Sciences                        3                2       Married   \n",
       "2          Other                        4                3        Single   \n",
       "3  Life Sciences                        4                3       Married   \n",
       "4        Medical                        1                2       Married   \n",
       "\n",
       "   MonthlyIncome  NumCompaniesWorked  WorkLifeBalance  YearsAtCompany  \n",
       "0           5993                   8                1               6  \n",
       "1           5130                   1                3              10  \n",
       "2           2090                   6                3               0  \n",
       "3           2909                   1                3               8  \n",
       "4           3468                   9                3               2  "
      ]
     },
     "execution_count": 3,
     "metadata": {},
     "output_type": "execute_result"
    }
   ],
   "source": [
    "dataframe.head()"
   ]
  },
  {
   "cell_type": "code",
   "execution_count": 4,
   "metadata": {
    "ExecuteTime": {
     "end_time": "2021-07-14T07:23:11.480971Z",
     "start_time": "2021-07-14T07:23:11.400971Z"
    },
    "scrolled": true
   },
   "outputs": [
    {
     "name": "stdout",
     "output_type": "stream",
     "text": [
      "['Age' 'Attrition' 'Department' 'DistanceFromHome' 'Education'\n",
      " 'EducationField' 'EnvironmentSatisfaction' 'JobSatisfaction'\n",
      " 'MaritalStatus' 'MonthlyIncome' 'NumCompaniesWorked' 'WorkLifeBalance'\n",
      " 'YearsAtCompany']\n"
     ]
    }
   ],
   "source": [
    "names = dataframe.columns.values \n",
    "print(names)"
   ]
  },
  {
   "cell_type": "code",
   "execution_count": 5,
   "metadata": {
    "ExecuteTime": {
     "end_time": "2021-07-14T07:23:11.590971Z",
     "start_time": "2021-07-14T07:23:11.480971Z"
    },
    "scrolled": true
   },
   "outputs": [
    {
     "name": "stdout",
     "output_type": "stream",
     "text": [
      "<class 'pandas.core.frame.DataFrame'>\n",
      "RangeIndex: 1470 entries, 0 to 1469\n",
      "Data columns (total 13 columns):\n",
      " #   Column                   Non-Null Count  Dtype \n",
      "---  ------                   --------------  ----- \n",
      " 0   Age                      1470 non-null   int64 \n",
      " 1   Attrition                1470 non-null   object\n",
      " 2   Department               1470 non-null   object\n",
      " 3   DistanceFromHome         1470 non-null   int64 \n",
      " 4   Education                1470 non-null   int64 \n",
      " 5   EducationField           1470 non-null   object\n",
      " 6   EnvironmentSatisfaction  1470 non-null   int64 \n",
      " 7   JobSatisfaction          1470 non-null   int64 \n",
      " 8   MaritalStatus            1470 non-null   object\n",
      " 9   MonthlyIncome            1470 non-null   int64 \n",
      " 10  NumCompaniesWorked       1470 non-null   int64 \n",
      " 11  WorkLifeBalance          1470 non-null   int64 \n",
      " 12  YearsAtCompany           1470 non-null   int64 \n",
      "dtypes: int64(9), object(4)\n",
      "memory usage: 126.4+ KB\n"
     ]
    }
   ],
   "source": [
    "dataframe.info()"
   ]
  },
  {
   "cell_type": "code",
   "execution_count": 6,
   "metadata": {
    "ExecuteTime": {
     "end_time": "2021-07-14T07:23:11.680971Z",
     "start_time": "2021-07-14T07:23:11.590971Z"
    }
   },
   "outputs": [
    {
     "data": {
      "text/plain": [
       "(1470, 13)"
      ]
     },
     "execution_count": 6,
     "metadata": {},
     "output_type": "execute_result"
    }
   ],
   "source": [
    "dataframe.shape"
   ]
  },
  {
   "cell_type": "markdown",
   "metadata": {},
   "source": [
    "__The Attrition dataset has 1470 observations with 13 variables. Out of the 13 variables, there exists one target variable 'Attrition' with possible outcomes Yes and No. The other 12 variables are independent variables.__"
   ]
  },
  {
   "cell_type": "markdown",
   "metadata": {},
   "source": [
    "### Age distribution of Employees"
   ]
  },
  {
   "cell_type": "code",
   "execution_count": 7,
   "metadata": {
    "ExecuteTime": {
     "end_time": "2021-07-14T07:23:12.450972Z",
     "start_time": "2021-07-14T07:23:11.680971Z"
    },
    "scrolled": true
   },
   "outputs": [
    {
     "data": {
      "image/png": "[encoded data removed]",
      "text/plain": [
       "<Figure size 504x360 with 1 Axes>"
      ]
     },
     "metadata": {
      "needs_background": "light"
     },
     "output_type": "display_data"
    }
   ],
   "source": [
    "# histogram for age\n",
    "plt.figure(figsize=(7,5))\n",
    "dataframe['Age'].hist(bins=70)\n",
    "plt.title(\"Age distribution of Employees\")\n",
    "plt.xlabel(\"Age\")\n",
    "plt.ylabel(\"# of Employees\")\n",
    "plt.show()"
   ]
  },
  {
   "cell_type": "markdown",
   "metadata": {},
   "source": [
    "### Explore attrition by age"
   ]
  },
  {
   "cell_type": "code",
   "execution_count": 8,
   "metadata": {
    "ExecuteTime": {
     "end_time": "2021-07-14T07:23:12.770972Z",
     "start_time": "2021-07-14T07:23:12.450972Z"
    },
    "scrolled": false
   },
   "outputs": [
    {
     "data": {
      "image/png": "[encoded data removed]",
      "text/plain": [
       "<Figure size 1008x720 with 1 Axes>"
      ]
     },
     "metadata": {
      "needs_background": "light"
     },
     "output_type": "display_data"
    }
   ],
   "source": [
    "#Explore data for Attrition by Age\n",
    "plt.figure(figsize=(14,10))\n",
    "plt.scatter(dataframe.Attrition,dataframe.Age, alpha=0.1)\n",
    "plt.title(\"Attrition by Age \")\n",
    "plt.ylabel(\"Age\")\n",
    "plt.grid(b=True, which='major',axis='y')\n",
    "plt.show()"
   ]
  },
  {
   "cell_type": "markdown",
   "metadata": {},
   "source": [
    "__The Scatter plot shows most of the attritions are centered around 30 year of age.__"
   ]
  },
  {
   "cell_type": "markdown",
   "metadata": {},
   "source": [
    "### Explore data for Left employees"
   ]
  },
  {
   "cell_type": "code",
   "execution_count": 9,
   "metadata": {
    "ExecuteTime": {
     "end_time": "2021-07-14T07:23:12.780972Z",
     "start_time": "2021-07-14T07:23:12.770972Z"
    },
    "scrolled": true
   },
   "outputs": [
    {
     "data": {
      "text/plain": [
       "No     1233\n",
       "Yes     237\n",
       "Name: Attrition, dtype: int64"
      ]
     },
     "execution_count": 9,
     "metadata": {},
     "output_type": "execute_result"
    }
   ],
   "source": [
    "dataframe.Attrition.value_counts()"
   ]
  },
  {
   "cell_type": "markdown",
   "metadata": {},
   "source": [
    "__The dataset is well organised with no missing values. This is a Binary Classification Problem, so the Distribution of instances among the 2 classes is visualized below.__"
   ]
  },
  {
   "cell_type": "code",
   "execution_count": 10,
   "metadata": {
    "ExecuteTime": {
     "end_time": "2021-07-14T07:23:13.200973Z",
     "start_time": "2021-07-14T07:23:12.780972Z"
    }
   },
   "outputs": [
    {
     "data": {
      "image/png": "[encoded data removed]",
      "text/plain": [
       "<Figure size 576x432 with 1 Axes>"
      ]
     },
     "metadata": {
      "needs_background": "light"
     },
     "output_type": "display_data"
    }
   ],
   "source": [
    "# explore data for Left employees breakdown\n",
    "plt.figure(figsize=(8,6))\n",
    "dataframe.Attrition.value_counts().plot(kind='bar',color='blue',alpha=.65)\n",
    "plt.title(\"Attrition breakdown\")\n",
    "plt.show()"
   ]
  },
  {
   "cell_type": "markdown",
   "metadata": {},
   "source": [
    "__The above plot shows the distribution of Attrition. Out of the total of 1470 observations 1233 is No, whereas 237 is Yes. We will treat this imbalance after splitting the data into Training and Test Set.__"
   ]
  },
  {
   "cell_type": "markdown",
   "metadata": {},
   "source": [
    "### Find out the distribution of employees by the education field"
   ]
  },
  {
   "cell_type": "code",
   "execution_count": 11,
   "metadata": {
    "ExecuteTime": {
     "end_time": "2021-07-14T07:23:13.590974Z",
     "start_time": "2021-07-14T07:23:13.200973Z"
    },
    "scrolled": true
   },
   "outputs": [
    {
     "data": {
      "image/png": "[encoded data removed]",
      "text/plain": [
       "<Figure size 504x360 with 1 Axes>"
      ]
     },
     "metadata": {
      "needs_background": "light"
     },
     "output_type": "display_data"
    }
   ],
   "source": [
    "# explore data for Education Field distribution\n",
    "plt.figure(figsize=(7,5))\n",
    "dataframe.EducationField.value_counts().plot(kind='barh',color='g',alpha=.65)\n",
    "plt.title(\"Education Field Distribution\")\n",
    "plt.show()"
   ]
  },
  {
   "cell_type": "markdown",
   "metadata": {},
   "source": [
    "__Attrition by Education Field__"
   ]
  },
  {
   "cell_type": "code",
   "execution_count": 12,
   "metadata": {
    "ExecuteTime": {
     "end_time": "2021-07-14T07:23:14.250975Z",
     "start_time": "2021-07-14T07:23:13.590974Z"
    }
   },
   "outputs": [
    {
     "data": {
      "image/png": "[encoded data removed]",
      "text/plain": [
       "<Figure size 432x288 with 1 Axes>"
      ]
     },
     "metadata": {
      "needs_background": "light"
     },
     "output_type": "display_data"
    }
   ],
   "source": [
    "pd.crosstab(dataframe[\"EducationField\"],dataframe[\"Attrition\"]).plot(kind=\"barh\",stacked=True)\n",
    "plt.title(\"Attrition by Education Field\")\n",
    "plt.xlabel(\"Education Field\")\n",
    "plt.ylabel(\"Frequency of Attrition\")\n",
    "plt.show()"
   ]
  },
  {
   "cell_type": "markdown",
   "metadata": {},
   "source": [
    "__LifeSciences and Medical fields have the highest number of employees and highest number of attrition rate. The percentage of employees who have attritioned against those who have been retained seems to be approximately same in all the education fields.__"
   ]
  },
  {
   "cell_type": "markdown",
   "metadata": {},
   "source": [
    "### Give a bar chart for the number of married and unmarried employees"
   ]
  },
  {
   "cell_type": "code",
   "execution_count": 13,
   "metadata": {
    "ExecuteTime": {
     "end_time": "2021-07-14T07:23:14.570975Z",
     "start_time": "2021-07-14T07:23:14.250975Z"
    },
    "scrolled": false
   },
   "outputs": [
    {
     "data": {
      "image/png": "[encoded data removed]",
      "text/plain": [
       "<Figure size 504x360 with 1 Axes>"
      ]
     },
     "metadata": {
      "needs_background": "light"
     },
     "output_type": "display_data"
    }
   ],
   "source": [
    "# explore data for Marital Status\n",
    "plt.figure(figsize=(7,5))\n",
    "dataframe.MaritalStatus.value_counts().plot(kind='bar',alpha=.5)\n",
    "plt.show()"
   ]
  },
  {
   "cell_type": "markdown",
   "metadata": {},
   "source": [
    "__Attrition by Marital Status__"
   ]
  },
  {
   "cell_type": "code",
   "execution_count": 14,
   "metadata": {
    "ExecuteTime": {
     "end_time": "2021-07-14T07:23:15.180976Z",
     "start_time": "2021-07-14T07:23:14.570975Z"
    },
    "scrolled": true
   },
   "outputs": [
    {
     "data": {
      "image/png": "[encoded data removed]",
      "text/plain": [
       "<Figure size 432x288 with 1 Axes>"
      ]
     },
     "metadata": {
      "needs_background": "light"
     },
     "output_type": "display_data"
    }
   ],
   "source": [
    "pd.crosstab(dataframe[\"MaritalStatus\"],dataframe[\"Attrition\"]).plot(kind=\"bar\",stacked=False)\n",
    "plt.title(\"Attrition by Marital Status\")\n",
    "plt.xlabel(\"Marital Status\")\n",
    "plt.ylabel(\"Frequency of Attrition\")\n",
    "plt.show()"
   ]
  },
  {
   "cell_type": "markdown",
   "metadata": {},
   "source": [
    "__The highest attrition is well correlated to ‘Single’ followed by ‘Married’ & ‘Divorced.__"
   ]
  },
  {
   "cell_type": "markdown",
   "metadata": {},
   "source": [
    "## Build up a logistic regression model to predict which employees are likely to attrite"
   ]
  },
  {
   "cell_type": "code",
   "execution_count": 15,
   "metadata": {
    "ExecuteTime": {
     "end_time": "2021-07-14T07:23:15.220976Z",
     "start_time": "2021-07-14T07:23:15.180976Z"
    }
   },
   "outputs": [
    {
     "data": {
      "text/html": [
       "<div>\n",
       "<style scoped>\n",
       "    .dataframe tbody tr th:only-of-type {\n",
       "        vertical-align: middle;\n",
       "    }\n",
       "\n",
       "    .dataframe tbody tr th {\n",
       "        vertical-align: top;\n",
       "    }\n",
       "\n",
       "    .dataframe thead th {\n",
       "        text-align: right;\n",
       "    }\n",
       "</style>\n",
       "<table border=\"1\" class=\"dataframe\">\n",
       "  <thead>\n",
       "    <tr style=\"text-align: right;\">\n",
       "      <th></th>\n",
       "      <th>Age</th>\n",
       "      <th>DistanceFromHome</th>\n",
       "      <th>Education</th>\n",
       "      <th>EnvironmentSatisfaction</th>\n",
       "      <th>JobSatisfaction</th>\n",
       "      <th>MonthlyIncome</th>\n",
       "      <th>NumCompaniesWorked</th>\n",
       "      <th>WorkLifeBalance</th>\n",
       "      <th>YearsAtCompany</th>\n",
       "    </tr>\n",
       "  </thead>\n",
       "  <tbody>\n",
       "    <tr>\n",
       "      <th>count</th>\n",
       "      <td>1470.000000</td>\n",
       "      <td>1470.000000</td>\n",
       "      <td>1470.000000</td>\n",
       "      <td>1470.000000</td>\n",
       "      <td>1470.000000</td>\n",
       "      <td>1470.000000</td>\n",
       "      <td>1470.000000</td>\n",
       "      <td>1470.000000</td>\n",
       "      <td>1470.000000</td>\n",
       "    </tr>\n",
       "    <tr>\n",
       "      <th>mean</th>\n",
       "      <td>36.923810</td>\n",
       "      <td>9.192517</td>\n",
       "      <td>2.912925</td>\n",
       "      <td>2.721769</td>\n",
       "      <td>2.728571</td>\n",
       "      <td>6502.931293</td>\n",
       "      <td>2.693197</td>\n",
       "      <td>2.761224</td>\n",
       "      <td>7.008163</td>\n",
       "    </tr>\n",
       "    <tr>\n",
       "      <th>std</th>\n",
       "      <td>9.135373</td>\n",
       "      <td>8.106864</td>\n",
       "      <td>1.024165</td>\n",
       "      <td>1.093082</td>\n",
       "      <td>1.102846</td>\n",
       "      <td>4707.956783</td>\n",
       "      <td>2.498009</td>\n",
       "      <td>0.706476</td>\n",
       "      <td>6.126525</td>\n",
       "    </tr>\n",
       "    <tr>\n",
       "      <th>min</th>\n",
       "      <td>18.000000</td>\n",
       "      <td>1.000000</td>\n",
       "      <td>1.000000</td>\n",
       "      <td>1.000000</td>\n",
       "      <td>1.000000</td>\n",
       "      <td>1009.000000</td>\n",
       "      <td>0.000000</td>\n",
       "      <td>1.000000</td>\n",
       "      <td>0.000000</td>\n",
       "    </tr>\n",
       "    <tr>\n",
       "      <th>25%</th>\n",
       "      <td>30.000000</td>\n",
       "      <td>2.000000</td>\n",
       "      <td>2.000000</td>\n",
       "      <td>2.000000</td>\n",
       "      <td>2.000000</td>\n",
       "      <td>2911.000000</td>\n",
       "      <td>1.000000</td>\n",
       "      <td>2.000000</td>\n",
       "      <td>3.000000</td>\n",
       "    </tr>\n",
       "    <tr>\n",
       "      <th>50%</th>\n",
       "      <td>36.000000</td>\n",
       "      <td>7.000000</td>\n",
       "      <td>3.000000</td>\n",
       "      <td>3.000000</td>\n",
       "      <td>3.000000</td>\n",
       "      <td>4919.000000</td>\n",
       "      <td>2.000000</td>\n",
       "      <td>3.000000</td>\n",
       "      <td>5.000000</td>\n",
       "    </tr>\n",
       "    <tr>\n",
       "      <th>75%</th>\n",
       "      <td>43.000000</td>\n",
       "      <td>14.000000</td>\n",
       "      <td>4.000000</td>\n",
       "      <td>4.000000</td>\n",
       "      <td>4.000000</td>\n",
       "      <td>8379.000000</td>\n",
       "      <td>4.000000</td>\n",
       "      <td>3.000000</td>\n",
       "      <td>9.000000</td>\n",
       "    </tr>\n",
       "    <tr>\n",
       "      <th>max</th>\n",
       "      <td>60.000000</td>\n",
       "      <td>29.000000</td>\n",
       "      <td>5.000000</td>\n",
       "      <td>4.000000</td>\n",
       "      <td>4.000000</td>\n",
       "      <td>19999.000000</td>\n",
       "      <td>9.000000</td>\n",
       "      <td>4.000000</td>\n",
       "      <td>40.000000</td>\n",
       "    </tr>\n",
       "  </tbody>\n",
       "</table>\n",
       "</div>"
      ],
      "text/plain": [
       "               Age  DistanceFromHome    Education  EnvironmentSatisfaction  \\\n",
       "count  1470.000000       1470.000000  1470.000000              1470.000000   \n",
       "mean     36.923810          9.192517     2.912925                 2.721769   \n",
       "std       9.135373          8.106864     1.024165                 1.093082   \n",
       "min      18.000000          1.000000     1.000000                 1.000000   \n",
       "25%      30.000000          2.000000     2.000000                 2.000000   \n",
       "50%      36.000000          7.000000     3.000000                 3.000000   \n",
       "75%      43.000000         14.000000     4.000000                 4.000000   \n",
       "max      60.000000         29.000000     5.000000                 4.000000   \n",
       "\n",
       "       JobSatisfaction  MonthlyIncome  NumCompaniesWorked  WorkLifeBalance  \\\n",
       "count      1470.000000    1470.000000         1470.000000      1470.000000   \n",
       "mean          2.728571    6502.931293            2.693197         2.761224   \n",
       "std           1.102846    4707.956783            2.498009         0.706476   \n",
       "min           1.000000    1009.000000            0.000000         1.000000   \n",
       "25%           2.000000    2911.000000            1.000000         2.000000   \n",
       "50%           3.000000    4919.000000            2.000000         3.000000   \n",
       "75%           4.000000    8379.000000            4.000000         3.000000   \n",
       "max           4.000000   19999.000000            9.000000         4.000000   \n",
       "\n",
       "       YearsAtCompany  \n",
       "count     1470.000000  \n",
       "mean         7.008163  \n",
       "std          6.126525  \n",
       "min          0.000000  \n",
       "25%          3.000000  \n",
       "50%          5.000000  \n",
       "75%          9.000000  \n",
       "max         40.000000  "
      ]
     },
     "execution_count": 15,
     "metadata": {},
     "output_type": "execute_result"
    }
   ],
   "source": [
    "dataframe.describe()"
   ]
  },
  {
   "cell_type": "code",
   "execution_count": 16,
   "metadata": {
    "ExecuteTime": {
     "end_time": "2021-07-14T07:23:15.440976Z",
     "start_time": "2021-07-14T07:23:15.220976Z"
    }
   },
   "outputs": [
    {
     "name": "stdout",
     "output_type": "stream",
     "text": [
      "<class 'pandas.core.frame.DataFrame'>\n",
      "RangeIndex: 1470 entries, 0 to 1469\n",
      "Data columns (total 13 columns):\n",
      " #   Column                   Non-Null Count  Dtype \n",
      "---  ------                   --------------  ----- \n",
      " 0   Age                      1470 non-null   int64 \n",
      " 1   Attrition                1470 non-null   object\n",
      " 2   Department               1470 non-null   object\n",
      " 3   DistanceFromHome         1470 non-null   int64 \n",
      " 4   Education                1470 non-null   int64 \n",
      " 5   EducationField           1470 non-null   object\n",
      " 6   EnvironmentSatisfaction  1470 non-null   int64 \n",
      " 7   JobSatisfaction          1470 non-null   int64 \n",
      " 8   MaritalStatus            1470 non-null   object\n",
      " 9   MonthlyIncome            1470 non-null   int64 \n",
      " 10  NumCompaniesWorked       1470 non-null   int64 \n",
      " 11  WorkLifeBalance          1470 non-null   int64 \n",
      " 12  YearsAtCompany           1470 non-null   int64 \n",
      "dtypes: int64(9), object(4)\n",
      "memory usage: 126.4+ KB\n"
     ]
    }
   ],
   "source": [
    "dataframe.info()"
   ]
  },
  {
   "cell_type": "code",
   "execution_count": 17,
   "metadata": {
    "ExecuteTime": {
     "end_time": "2021-07-14T07:23:15.570976Z",
     "start_time": "2021-07-14T07:23:15.440976Z"
    }
   },
   "outputs": [
    {
     "data": {
      "text/plain": [
       "Index(['Age', 'Attrition', 'Department', 'DistanceFromHome', 'Education',\n",
       "       'EducationField', 'EnvironmentSatisfaction', 'JobSatisfaction',\n",
       "       'MaritalStatus', 'MonthlyIncome', 'NumCompaniesWorked',\n",
       "       'WorkLifeBalance', 'YearsAtCompany'],\n",
       "      dtype='object')"
      ]
     },
     "execution_count": 17,
     "metadata": {},
     "output_type": "execute_result"
    }
   ],
   "source": [
    "dataframe.columns"
   ]
  },
  {
   "cell_type": "code",
   "execution_count": 18,
   "metadata": {
    "ExecuteTime": {
     "end_time": "2021-07-14T07:23:15.720977Z",
     "start_time": "2021-07-14T07:23:15.570976Z"
    },
    "scrolled": true
   },
   "outputs": [
    {
     "data": {
      "text/plain": [
       "Age                           9.135373\n",
       "DistanceFromHome              8.106864\n",
       "Education                     1.024165\n",
       "EnvironmentSatisfaction       1.093082\n",
       "JobSatisfaction               1.102846\n",
       "MonthlyIncome              4707.956783\n",
       "NumCompaniesWorked            2.498009\n",
       "WorkLifeBalance               0.706476\n",
       "YearsAtCompany                6.126525\n",
       "dtype: float64"
      ]
     },
     "execution_count": 18,
     "metadata": {},
     "output_type": "execute_result"
    }
   ],
   "source": [
    "dataframe.std()"
   ]
  },
  {
   "cell_type": "code",
   "execution_count": 19,
   "metadata": {
    "ExecuteTime": {
     "end_time": "2021-07-14T07:23:15.850977Z",
     "start_time": "2021-07-14T07:23:15.720977Z"
    }
   },
   "outputs": [
    {
     "data": {
      "text/plain": [
       "No     1233\n",
       "Yes     237\n",
       "Name: Attrition, dtype: int64"
      ]
     },
     "execution_count": 19,
     "metadata": {},
     "output_type": "execute_result"
    }
   ],
   "source": [
    "dataframe['Attrition'].value_counts()"
   ]
  },
  {
   "cell_type": "code",
   "execution_count": 20,
   "metadata": {
    "ExecuteTime": {
     "end_time": "2021-07-14T07:23:15.980977Z",
     "start_time": "2021-07-14T07:23:15.850977Z"
    }
   },
   "outputs": [
    {
     "data": {
      "text/plain": [
       "dtype('O')"
      ]
     },
     "execution_count": 20,
     "metadata": {},
     "output_type": "execute_result"
    }
   ],
   "source": [
    "dataframe['Attrition'].dtypes"
   ]
  },
  {
   "cell_type": "markdown",
   "metadata": {},
   "source": [
    "### Data Preprocessing"
   ]
  },
  {
   "cell_type": "code",
   "execution_count": 21,
   "metadata": {
    "ExecuteTime": {
     "end_time": "2021-07-14T07:23:16.090977Z",
     "start_time": "2021-07-14T07:23:15.980977Z"
    }
   },
   "outputs": [],
   "source": [
    "dataframe['Attrition'].replace('Yes',1, inplace=True)\n",
    "dataframe['Attrition'].replace('No',0, inplace=True)"
   ]
  },
  {
   "cell_type": "code",
   "execution_count": 22,
   "metadata": {
    "ExecuteTime": {
     "end_time": "2021-07-14T07:23:16.270977Z",
     "start_time": "2021-07-14T07:23:16.090977Z"
    }
   },
   "outputs": [
    {
     "data": {
      "text/html": [
       "<div>\n",
       "<style scoped>\n",
       "    .dataframe tbody tr th:only-of-type {\n",
       "        vertical-align: middle;\n",
       "    }\n",
       "\n",
       "    .dataframe tbody tr th {\n",
       "        vertical-align: top;\n",
       "    }\n",
       "\n",
       "    .dataframe thead th {\n",
       "        text-align: right;\n",
       "    }\n",
       "</style>\n",
       "<table border=\"1\" class=\"dataframe\">\n",
       "  <thead>\n",
       "    <tr style=\"text-align: right;\">\n",
       "      <th></th>\n",
       "      <th>Age</th>\n",
       "      <th>Attrition</th>\n",
       "      <th>Department</th>\n",
       "      <th>DistanceFromHome</th>\n",
       "      <th>Education</th>\n",
       "      <th>EducationField</th>\n",
       "      <th>EnvironmentSatisfaction</th>\n",
       "      <th>JobSatisfaction</th>\n",
       "      <th>MaritalStatus</th>\n",
       "      <th>MonthlyIncome</th>\n",
       "      <th>NumCompaniesWorked</th>\n",
       "      <th>WorkLifeBalance</th>\n",
       "      <th>YearsAtCompany</th>\n",
       "    </tr>\n",
       "  </thead>\n",
       "  <tbody>\n",
       "    <tr>\n",
       "      <th>0</th>\n",
       "      <td>41</td>\n",
       "      <td>1</td>\n",
       "      <td>Sales</td>\n",
       "      <td>1</td>\n",
       "      <td>2</td>\n",
       "      <td>Life Sciences</td>\n",
       "      <td>2</td>\n",
       "      <td>4</td>\n",
       "      <td>Single</td>\n",
       "      <td>5993</td>\n",
       "      <td>8</td>\n",
       "      <td>1</td>\n",
       "      <td>6</td>\n",
       "    </tr>\n",
       "    <tr>\n",
       "      <th>1</th>\n",
       "      <td>49</td>\n",
       "      <td>0</td>\n",
       "      <td>Research &amp; Development</td>\n",
       "      <td>8</td>\n",
       "      <td>1</td>\n",
       "      <td>Life Sciences</td>\n",
       "      <td>3</td>\n",
       "      <td>2</td>\n",
       "      <td>Married</td>\n",
       "      <td>5130</td>\n",
       "      <td>1</td>\n",
       "      <td>3</td>\n",
       "      <td>10</td>\n",
       "    </tr>\n",
       "    <tr>\n",
       "      <th>2</th>\n",
       "      <td>37</td>\n",
       "      <td>1</td>\n",
       "      <td>Research &amp; Development</td>\n",
       "      <td>2</td>\n",
       "      <td>2</td>\n",
       "      <td>Other</td>\n",
       "      <td>4</td>\n",
       "      <td>3</td>\n",
       "      <td>Single</td>\n",
       "      <td>2090</td>\n",
       "      <td>6</td>\n",
       "      <td>3</td>\n",
       "      <td>0</td>\n",
       "    </tr>\n",
       "    <tr>\n",
       "      <th>3</th>\n",
       "      <td>33</td>\n",
       "      <td>0</td>\n",
       "      <td>Research &amp; Development</td>\n",
       "      <td>3</td>\n",
       "      <td>4</td>\n",
       "      <td>Life Sciences</td>\n",
       "      <td>4</td>\n",
       "      <td>3</td>\n",
       "      <td>Married</td>\n",
       "      <td>2909</td>\n",
       "      <td>1</td>\n",
       "      <td>3</td>\n",
       "      <td>8</td>\n",
       "    </tr>\n",
       "    <tr>\n",
       "      <th>4</th>\n",
       "      <td>27</td>\n",
       "      <td>0</td>\n",
       "      <td>Research &amp; Development</td>\n",
       "      <td>2</td>\n",
       "      <td>1</td>\n",
       "      <td>Medical</td>\n",
       "      <td>1</td>\n",
       "      <td>2</td>\n",
       "      <td>Married</td>\n",
       "      <td>3468</td>\n",
       "      <td>9</td>\n",
       "      <td>3</td>\n",
       "      <td>2</td>\n",
       "    </tr>\n",
       "    <tr>\n",
       "      <th>5</th>\n",
       "      <td>32</td>\n",
       "      <td>0</td>\n",
       "      <td>Research &amp; Development</td>\n",
       "      <td>2</td>\n",
       "      <td>2</td>\n",
       "      <td>Life Sciences</td>\n",
       "      <td>4</td>\n",
       "      <td>4</td>\n",
       "      <td>Single</td>\n",
       "      <td>3068</td>\n",
       "      <td>0</td>\n",
       "      <td>2</td>\n",
       "      <td>7</td>\n",
       "    </tr>\n",
       "    <tr>\n",
       "      <th>6</th>\n",
       "      <td>59</td>\n",
       "      <td>0</td>\n",
       "      <td>Research &amp; Development</td>\n",
       "      <td>3</td>\n",
       "      <td>3</td>\n",
       "      <td>Medical</td>\n",
       "      <td>3</td>\n",
       "      <td>1</td>\n",
       "      <td>Married</td>\n",
       "      <td>2670</td>\n",
       "      <td>4</td>\n",
       "      <td>2</td>\n",
       "      <td>1</td>\n",
       "    </tr>\n",
       "    <tr>\n",
       "      <th>7</th>\n",
       "      <td>30</td>\n",
       "      <td>0</td>\n",
       "      <td>Research &amp; Development</td>\n",
       "      <td>24</td>\n",
       "      <td>1</td>\n",
       "      <td>Life Sciences</td>\n",
       "      <td>4</td>\n",
       "      <td>3</td>\n",
       "      <td>Divorced</td>\n",
       "      <td>2693</td>\n",
       "      <td>1</td>\n",
       "      <td>3</td>\n",
       "      <td>1</td>\n",
       "    </tr>\n",
       "    <tr>\n",
       "      <th>8</th>\n",
       "      <td>38</td>\n",
       "      <td>0</td>\n",
       "      <td>Research &amp; Development</td>\n",
       "      <td>23</td>\n",
       "      <td>3</td>\n",
       "      <td>Life Sciences</td>\n",
       "      <td>4</td>\n",
       "      <td>3</td>\n",
       "      <td>Single</td>\n",
       "      <td>9526</td>\n",
       "      <td>0</td>\n",
       "      <td>3</td>\n",
       "      <td>9</td>\n",
       "    </tr>\n",
       "    <tr>\n",
       "      <th>9</th>\n",
       "      <td>36</td>\n",
       "      <td>0</td>\n",
       "      <td>Research &amp; Development</td>\n",
       "      <td>27</td>\n",
       "      <td>3</td>\n",
       "      <td>Medical</td>\n",
       "      <td>3</td>\n",
       "      <td>3</td>\n",
       "      <td>Married</td>\n",
       "      <td>5237</td>\n",
       "      <td>6</td>\n",
       "      <td>2</td>\n",
       "      <td>7</td>\n",
       "    </tr>\n",
       "  </tbody>\n",
       "</table>\n",
       "</div>"
      ],
      "text/plain": [
       "   Age  Attrition              Department  DistanceFromHome  Education  \\\n",
       "0   41          1                   Sales                 1          2   \n",
       "1   49          0  Research & Development                 8          1   \n",
       "2   37          1  Research & Development                 2          2   \n",
       "3   33          0  Research & Development                 3          4   \n",
       "4   27          0  Research & Development                 2          1   \n",
       "5   32          0  Research & Development                 2          2   \n",
       "6   59          0  Research & Development                 3          3   \n",
       "7   30          0  Research & Development                24          1   \n",
       "8   38          0  Research & Development                23          3   \n",
       "9   36          0  Research & Development                27          3   \n",
       "\n",
       "  EducationField  EnvironmentSatisfaction  JobSatisfaction MaritalStatus  \\\n",
       "0  Life Sciences                        2                4        Single   \n",
       "1  Life Sciences                        3                2       Married   \n",
       "2          Other                        4                3        Single   \n",
       "3  Life Sciences                        4                3       Married   \n",
       "4        Medical                        1                2       Married   \n",
       "5  Life Sciences                        4                4        Single   \n",
       "6        Medical                        3                1       Married   \n",
       "7  Life Sciences                        4                3      Divorced   \n",
       "8  Life Sciences                        4                3        Single   \n",
       "9        Medical                        3                3       Married   \n",
       "\n",
       "   MonthlyIncome  NumCompaniesWorked  WorkLifeBalance  YearsAtCompany  \n",
       "0           5993                   8                1               6  \n",
       "1           5130                   1                3              10  \n",
       "2           2090                   6                3               0  \n",
       "3           2909                   1                3               8  \n",
       "4           3468                   9                3               2  \n",
       "5           3068                   0                2               7  \n",
       "6           2670                   4                2               1  \n",
       "7           2693                   1                3               1  \n",
       "8           9526                   0                3               9  \n",
       "9           5237                   6                2               7  "
      ]
     },
     "execution_count": 22,
     "metadata": {},
     "output_type": "execute_result"
    }
   ],
   "source": [
    "dataframe.head(10)"
   ]
  },
  {
   "cell_type": "code",
   "execution_count": 23,
   "metadata": {
    "ExecuteTime": {
     "end_time": "2021-07-14T07:23:16.400978Z",
     "start_time": "2021-07-14T07:23:16.270977Z"
    },
    "scrolled": true
   },
   "outputs": [
    {
     "data": {
      "text/plain": [
       "0    1\n",
       "1    0\n",
       "2    1\n",
       "3    0\n",
       "4    0\n",
       "Name: Attrition, dtype: int64"
      ]
     },
     "execution_count": 23,
     "metadata": {},
     "output_type": "execute_result"
    }
   ],
   "source": [
    "# building up a logistic regression model\n",
    "X = dataframe.drop(['Attrition'],axis=1)\n",
    "X.head()\n",
    "Y = dataframe['Attrition']\n",
    "Y.head()"
   ]
  },
  {
   "cell_type": "code",
   "execution_count": 24,
   "metadata": {
    "ExecuteTime": {
     "end_time": "2021-07-14T07:23:16.450978Z",
     "start_time": "2021-07-14T07:23:16.400978Z"
    }
   },
   "outputs": [
    {
     "data": {
      "text/plain": [
       "Life Sciences       606\n",
       "Medical             464\n",
       "Marketing           159\n",
       "Technical Degree    132\n",
       "Other                82\n",
       "Human Resources      27\n",
       "Name: EducationField, dtype: int64"
      ]
     },
     "execution_count": 24,
     "metadata": {},
     "output_type": "execute_result"
    }
   ],
   "source": [
    "dataframe['EducationField'].value_counts()"
   ]
  },
  {
   "cell_type": "code",
   "execution_count": 25,
   "metadata": {
    "ExecuteTime": {
     "end_time": "2021-07-14T07:23:16.500978Z",
     "start_time": "2021-07-14T07:23:16.450978Z"
    }
   },
   "outputs": [],
   "source": [
    "dataframe['EducationField'].replace('Life Sciences',1, inplace=True)\n",
    "dataframe['EducationField'].replace('Medical',2, inplace=True)\n",
    "dataframe['EducationField'].replace('Marketing', 3, inplace=True)\n",
    "dataframe['EducationField'].replace('Other',4, inplace=True)\n",
    "dataframe['EducationField'].replace('Technical Degree',5, inplace=True)\n",
    "dataframe['EducationField'].replace('Human Resources', 6, inplace=True)"
   ]
  },
  {
   "cell_type": "code",
   "execution_count": 26,
   "metadata": {
    "ExecuteTime": {
     "end_time": "2021-07-14T07:23:16.540978Z",
     "start_time": "2021-07-14T07:23:16.500978Z"
    }
   },
   "outputs": [
    {
     "data": {
      "text/plain": [
       "1    606\n",
       "2    464\n",
       "3    159\n",
       "5    132\n",
       "4     82\n",
       "6     27\n",
       "Name: EducationField, dtype: int64"
      ]
     },
     "execution_count": 26,
     "metadata": {},
     "output_type": "execute_result"
    }
   ],
   "source": [
    "dataframe['EducationField'].value_counts()"
   ]
  },
  {
   "cell_type": "code",
   "execution_count": 27,
   "metadata": {
    "ExecuteTime": {
     "end_time": "2021-07-14T07:23:16.580978Z",
     "start_time": "2021-07-14T07:23:16.540978Z"
    }
   },
   "outputs": [
    {
     "data": {
      "text/plain": [
       "Research & Development    961\n",
       "Sales                     446\n",
       "Human Resources            63\n",
       "Name: Department, dtype: int64"
      ]
     },
     "execution_count": 27,
     "metadata": {},
     "output_type": "execute_result"
    }
   ],
   "source": [
    "dataframe['Department'].value_counts()"
   ]
  },
  {
   "cell_type": "code",
   "execution_count": 28,
   "metadata": {
    "ExecuteTime": {
     "end_time": "2021-07-14T07:23:16.690978Z",
     "start_time": "2021-07-14T07:23:16.580978Z"
    }
   },
   "outputs": [],
   "source": [
    "dataframe['Department'].replace('Research & Development',1, inplace=True)\n",
    "dataframe['Department'].replace('Sales',2, inplace=True)\n",
    "dataframe['Department'].replace('Human Resources', 3, inplace=True)"
   ]
  },
  {
   "cell_type": "code",
   "execution_count": 29,
   "metadata": {
    "ExecuteTime": {
     "end_time": "2021-07-14T07:23:16.760978Z",
     "start_time": "2021-07-14T07:23:16.690978Z"
    }
   },
   "outputs": [
    {
     "data": {
      "text/plain": [
       "1    961\n",
       "2    446\n",
       "3     63\n",
       "Name: Department, dtype: int64"
      ]
     },
     "execution_count": 29,
     "metadata": {},
     "output_type": "execute_result"
    }
   ],
   "source": [
    "dataframe['Department'].value_counts()"
   ]
  },
  {
   "cell_type": "code",
   "execution_count": 30,
   "metadata": {
    "ExecuteTime": {
     "end_time": "2021-07-14T07:23:16.810978Z",
     "start_time": "2021-07-14T07:23:16.760978Z"
    }
   },
   "outputs": [
    {
     "data": {
      "text/plain": [
       "Married     673\n",
       "Single      470\n",
       "Divorced    327\n",
       "Name: MaritalStatus, dtype: int64"
      ]
     },
     "execution_count": 30,
     "metadata": {},
     "output_type": "execute_result"
    }
   ],
   "source": [
    "dataframe['MaritalStatus'].value_counts()"
   ]
  },
  {
   "cell_type": "code",
   "execution_count": 31,
   "metadata": {
    "ExecuteTime": {
     "end_time": "2021-07-14T07:23:16.870978Z",
     "start_time": "2021-07-14T07:23:16.810978Z"
    }
   },
   "outputs": [],
   "source": [
    "dataframe['MaritalStatus'].replace('Married',1, inplace=True)\n",
    "dataframe['MaritalStatus'].replace('Single',2, inplace=True)\n",
    "dataframe['MaritalStatus'].replace('Divorced',3, inplace=True)"
   ]
  },
  {
   "cell_type": "code",
   "execution_count": 32,
   "metadata": {
    "ExecuteTime": {
     "end_time": "2021-07-14T07:23:16.910978Z",
     "start_time": "2021-07-14T07:23:16.870978Z"
    }
   },
   "outputs": [
    {
     "data": {
      "text/plain": [
       "1    673\n",
       "2    470\n",
       "3    327\n",
       "Name: MaritalStatus, dtype: int64"
      ]
     },
     "execution_count": 32,
     "metadata": {},
     "output_type": "execute_result"
    }
   ],
   "source": [
    "dataframe['MaritalStatus'].value_counts()"
   ]
  },
  {
   "cell_type": "code",
   "execution_count": 33,
   "metadata": {
    "ExecuteTime": {
     "end_time": "2021-07-14T07:23:16.970978Z",
     "start_time": "2021-07-14T07:23:16.910978Z"
    }
   },
   "outputs": [
    {
     "data": {
      "text/plain": [
       "Age                        int64\n",
       "Attrition                  int64\n",
       "Department                 int64\n",
       "DistanceFromHome           int64\n",
       "Education                  int64\n",
       "EducationField             int64\n",
       "EnvironmentSatisfaction    int64\n",
       "JobSatisfaction            int64\n",
       "MaritalStatus              int64\n",
       "MonthlyIncome              int64\n",
       "NumCompaniesWorked         int64\n",
       "WorkLifeBalance            int64\n",
       "YearsAtCompany             int64\n",
       "dtype: object"
      ]
     },
     "execution_count": 33,
     "metadata": {},
     "output_type": "execute_result"
    }
   ],
   "source": [
    "x=dataframe.select_dtypes(include=['int64'])\n",
    "x.dtypes"
   ]
  },
  {
   "cell_type": "code",
   "execution_count": 34,
   "metadata": {
    "ExecuteTime": {
     "end_time": "2021-07-14T07:23:17.000978Z",
     "start_time": "2021-07-14T07:23:16.970978Z"
    }
   },
   "outputs": [
    {
     "data": {
      "text/plain": [
       "Index(['Age', 'Attrition', 'Department', 'DistanceFromHome', 'Education',\n",
       "       'EducationField', 'EnvironmentSatisfaction', 'JobSatisfaction',\n",
       "       'MaritalStatus', 'MonthlyIncome', 'NumCompaniesWorked',\n",
       "       'WorkLifeBalance', 'YearsAtCompany'],\n",
       "      dtype='object')"
      ]
     },
     "execution_count": 34,
     "metadata": {},
     "output_type": "execute_result"
    }
   ],
   "source": [
    "x.columns"
   ]
  },
  {
   "cell_type": "code",
   "execution_count": 35,
   "metadata": {
    "ExecuteTime": {
     "end_time": "2021-07-14T07:23:17.040978Z",
     "start_time": "2021-07-14T07:23:17.000978Z"
    }
   },
   "outputs": [],
   "source": [
    "y=dataframe['Attrition']"
   ]
  },
  {
   "cell_type": "code",
   "execution_count": 36,
   "metadata": {
    "ExecuteTime": {
     "end_time": "2021-07-14T07:23:17.100979Z",
     "start_time": "2021-07-14T07:23:17.040978Z"
    }
   },
   "outputs": [
    {
     "data": {
      "text/plain": [
       "0    1\n",
       "1    0\n",
       "2    1\n",
       "3    0\n",
       "4    0\n",
       "Name: Attrition, dtype: int64"
      ]
     },
     "execution_count": 36,
     "metadata": {},
     "output_type": "execute_result"
    }
   ],
   "source": [
    "y.head()"
   ]
  },
  {
   "cell_type": "code",
   "execution_count": 37,
   "metadata": {
    "ExecuteTime": {
     "end_time": "2021-07-14T07:23:17.200979Z",
     "start_time": "2021-07-14T07:23:17.100979Z"
    }
   },
   "outputs": [
    {
     "name": "stdout",
     "output_type": "stream",
     "text": [
      "Index(['Intercept', 'Age', 'Department', 'DistanceFromHome', 'Education',\n",
      "       'EducationField', 'YearsAtCompany'],\n",
      "      dtype='object')\n"
     ]
    }
   ],
   "source": [
    "y, x = dmatrices('Attrition ~ Age + Department + \\\n",
    "                  DistanceFromHome + Education + EducationField + YearsAtCompany',\n",
    "                  dataframe, return_type=\"dataframe\")\n",
    "print (x.columns)"
   ]
  },
  {
   "cell_type": "code",
   "execution_count": 38,
   "metadata": {
    "ExecuteTime": {
     "end_time": "2021-07-14T07:23:17.240979Z",
     "start_time": "2021-07-14T07:23:17.200979Z"
    }
   },
   "outputs": [],
   "source": [
    "y = np.ravel(y)"
   ]
  },
  {
   "cell_type": "markdown",
   "metadata": {},
   "source": [
    "### Train and Test data"
   ]
  },
  {
   "cell_type": "code",
   "execution_count": 39,
   "metadata": {
    "ExecuteTime": {
     "end_time": "2021-07-14T07:23:17.538980Z",
     "start_time": "2021-07-14T07:23:17.240979Z"
    }
   },
   "outputs": [
    {
     "data": {
      "text/plain": [
       "0.8408163265306122"
      ]
     },
     "execution_count": 39,
     "metadata": {},
     "output_type": "execute_result"
    }
   ],
   "source": [
    "from sklearn.linear_model import LogisticRegression\n",
    "\n",
    "model = LogisticRegression()\n",
    "model = model.fit(x, y)\n",
    "\n",
    "#Check the accuracy on the training set\n",
    "model.score(x, y)"
   ]
  },
  {
   "cell_type": "code",
   "execution_count": 40,
   "metadata": {
    "ExecuteTime": {
     "end_time": "2021-07-14T07:23:17.565981Z",
     "start_time": "2021-07-14T07:23:17.543980Z"
    }
   },
   "outputs": [
    {
     "data": {
      "text/plain": [
       "0.16122448979591836"
      ]
     },
     "execution_count": 40,
     "metadata": {},
     "output_type": "execute_result"
    }
   ],
   "source": [
    "y.mean()"
   ]
  },
  {
   "cell_type": "code",
   "execution_count": 41,
   "metadata": {
    "ExecuteTime": {
     "end_time": "2021-07-14T07:23:17.709986Z",
     "start_time": "2021-07-14T07:23:17.568981Z"
    }
   },
   "outputs": [
    {
     "data": {
      "text/plain": [
       "LogisticRegression()"
      ]
     },
     "execution_count": 41,
     "metadata": {},
     "output_type": "execute_result"
    }
   ],
   "source": [
    "X_train,X_test,y_train,y_test=sklearn.model_selection.train_test_split(x,y, test_size=0.3, random_state=0)\n",
    "model2=LogisticRegression()\n",
    "model2.fit(X_train, y_train)"
   ]
  },
  {
   "cell_type": "code",
   "execution_count": 42,
   "metadata": {
    "ExecuteTime": {
     "end_time": "2021-07-14T07:23:17.733987Z",
     "start_time": "2021-07-14T07:23:17.711986Z"
    }
   },
   "outputs": [
    {
     "data": {
      "text/plain": [
       "0.8415937803692906"
      ]
     },
     "execution_count": 42,
     "metadata": {},
     "output_type": "execute_result"
    }
   ],
   "source": [
    "model2.score(X_train,y_train)"
   ]
  },
  {
   "cell_type": "markdown",
   "metadata": {},
   "source": [
    "__Training Accuracy of 84.15% is achieved by the model.__"
   ]
  },
  {
   "cell_type": "code",
   "execution_count": 43,
   "metadata": {
    "ExecuteTime": {
     "end_time": "2021-07-14T07:23:17.774989Z",
     "start_time": "2021-07-14T07:23:17.735988Z"
    }
   },
   "outputs": [
    {
     "data": {
      "text/plain": [
       "0.8435374149659864"
      ]
     },
     "execution_count": 43,
     "metadata": {},
     "output_type": "execute_result"
    }
   ],
   "source": [
    "model2.score(X_test,y_test)"
   ]
  },
  {
   "cell_type": "markdown",
   "metadata": {},
   "source": [
    "__Validation Accuracy of 84.35% is achieved by the model__"
   ]
  },
  {
   "cell_type": "markdown",
   "metadata": {},
   "source": [
    "### Build and Evaluate Model"
   ]
  },
  {
   "cell_type": "code",
   "execution_count": 44,
   "metadata": {
    "ExecuteTime": {
     "end_time": "2021-07-14T07:23:17.812990Z",
     "start_time": "2021-07-14T07:23:17.774989Z"
    },
    "scrolled": true
   },
   "outputs": [
    {
     "name": "stdout",
     "output_type": "stream",
     "text": [
      "[0. 0. 0. 0. 0. 0. 0. 0. 0. 0. 0. 0. 0. 0. 0. 0. 0. 0. 0. 0. 0. 0. 0. 0.\n",
      " 0. 0. 0. 0. 0. 0. 0. 0. 0. 0. 0. 0. 0. 0. 0. 0. 0. 0. 0. 0. 0. 0. 0. 0.\n",
      " 0. 0. 0. 0. 0. 0. 0. 0. 0. 0. 0. 0. 0. 0. 0. 0. 0. 0. 0. 0. 0. 0. 0. 0.\n",
      " 0. 0. 0. 0. 0. 0. 0. 0. 0. 0. 0. 0. 0. 0. 0. 0. 0. 0. 0. 0. 0. 0. 0. 0.\n",
      " 0. 0. 0. 0. 0. 0. 0. 0. 0. 0. 0. 0. 0. 0. 0. 0. 0. 0. 0. 0. 0. 0. 0. 0.\n",
      " 0. 0. 0. 0. 0. 0. 0. 0. 0. 0. 0. 0. 0. 0. 0. 0. 0. 0. 0. 0. 0. 0. 0. 0.\n",
      " 0. 0. 0. 0. 0. 0. 0. 0. 0. 0. 0. 0. 0. 0. 0. 0. 0. 0. 0. 0. 0. 0. 0. 0.\n",
      " 0. 0. 0. 0. 0. 0. 0. 0. 0. 0. 0. 0. 0. 0. 0. 0. 0. 0. 0. 0. 0. 0. 0. 0.\n",
      " 0. 0. 0. 0. 0. 0. 0. 0. 0. 0. 0. 0. 0. 0. 0. 0. 0. 0. 0. 0. 0. 0. 0. 0.\n",
      " 0. 0. 0. 0. 0. 0. 0. 0. 0. 0. 0. 0. 0. 0. 0. 0. 0. 0. 0. 0. 0. 0. 0. 0.\n",
      " 0. 0. 0. 0. 0. 0. 0. 0. 0. 0. 0. 0. 0. 0. 0. 0. 0. 0. 0. 0. 0. 0. 0. 0.\n",
      " 0. 0. 0. 0. 0. 0. 0. 0. 0. 0. 0. 0. 0. 0. 0. 0. 0. 0. 0. 0. 0. 0. 0. 0.\n",
      " 0. 0. 0. 0. 0. 0. 0. 0. 0. 0. 0. 0. 0. 0. 0. 0. 0. 0. 0. 0. 0. 0. 0. 0.\n",
      " 0. 0. 0. 0. 0. 0. 0. 0. 1. 0. 0. 0. 0. 0. 0. 0. 0. 0. 0. 0. 0. 0. 0. 0.\n",
      " 0. 0. 0. 0. 0. 0. 0. 0. 0. 0. 0. 0. 0. 0. 0. 0. 0. 0. 0. 0. 0. 0. 0. 0.\n",
      " 0. 0. 0. 0. 0. 0. 0. 0. 0. 0. 0. 0. 0. 0. 0. 0. 0. 0. 0. 0. 0. 0. 0. 0.\n",
      " 0. 0. 0. 0. 0. 0. 0. 0. 0. 0. 0. 0. 0. 0. 0. 0. 0. 0. 0. 0. 0. 0. 0. 0.\n",
      " 0. 0. 0. 0. 0. 0. 0. 0. 0. 0. 0. 0. 0. 0. 0. 0. 0. 0. 0. 0. 0. 0. 0. 0.\n",
      " 0. 0. 0. 0. 0. 0. 0. 0. 0.]\n"
     ]
    }
   ],
   "source": [
    "predicted= model2.predict(X_test)\n",
    "print (predicted)"
   ]
  },
  {
   "cell_type": "code",
   "execution_count": 45,
   "metadata": {
    "ExecuteTime": {
     "end_time": "2021-07-14T07:23:17.858992Z",
     "start_time": "2021-07-14T07:23:17.813990Z"
    }
   },
   "outputs": [
    {
     "name": "stdout",
     "output_type": "stream",
     "text": [
      "[[0.86179622 0.13820378]\n",
      " [0.80754592 0.19245408]\n",
      " [0.74123931 0.25876069]\n",
      " [0.83441338 0.16558662]\n",
      " [0.73499935 0.26500065]\n",
      " [0.79097741 0.20902259]\n",
      " [0.85615196 0.14384804]\n",
      " [0.85699669 0.14300331]\n",
      " [0.96699058 0.03300942]\n",
      " [0.9368521  0.0631479 ]\n",
      " [0.95099278 0.04900722]\n",
      " [0.83101548 0.16898452]\n",
      " [0.86296556 0.13703444]\n",
      " [0.86581193 0.13418807]\n",
      " [0.88750604 0.11249396]\n",
      " [0.88892616 0.11107384]\n",
      " [0.88569727 0.11430273]\n",
      " [0.78516583 0.21483417]\n",
      " [0.7979449  0.2020551 ]\n",
      " [0.88511304 0.11488696]\n",
      " [0.70651589 0.29348411]\n",
      " [0.94676693 0.05323307]\n",
      " [0.86736254 0.13263746]\n",
      " [0.84276452 0.15723548]\n",
      " [0.60336837 0.39663163]\n",
      " [0.811292   0.188708  ]\n",
      " [0.91813731 0.08186269]\n",
      " [0.93285522 0.06714478]\n",
      " [0.68230751 0.31769249]\n",
      " [0.87027139 0.12972861]\n",
      " [0.87266386 0.12733614]\n",
      " [0.76968737 0.23031263]\n",
      " [0.86435774 0.13564226]\n",
      " [0.95758881 0.04241119]\n",
      " [0.84461487 0.15538513]\n",
      " [0.86719349 0.13280651]\n",
      " [0.90465982 0.09534018]\n",
      " [0.68936423 0.31063577]\n",
      " [0.90703618 0.09296382]\n",
      " [0.80663474 0.19336526]\n",
      " [0.91515727 0.08484273]\n",
      " [0.82351271 0.17648729]\n",
      " [0.93711517 0.06288483]\n",
      " [0.93411325 0.06588675]\n",
      " [0.89447655 0.10552345]\n",
      " [0.85317747 0.14682253]\n",
      " [0.78922387 0.21077613]\n",
      " [0.84879888 0.15120112]\n",
      " [0.66402447 0.33597553]\n",
      " [0.76252291 0.23747709]\n",
      " [0.92851112 0.07148888]\n",
      " [0.78953697 0.21046303]\n",
      " [0.86166592 0.13833408]\n",
      " [0.85837884 0.14162116]\n",
      " [0.87217674 0.12782326]\n",
      " [0.78950896 0.21049104]\n",
      " [0.87690794 0.12309206]\n",
      " [0.8416545  0.1583455 ]\n",
      " [0.72847141 0.27152859]\n",
      " [0.83181403 0.16818597]\n",
      " [0.90095034 0.09904966]\n",
      " [0.71077325 0.28922675]\n",
      " [0.92823024 0.07176976]\n",
      " [0.84375679 0.15624321]\n",
      " [0.79544106 0.20455894]\n",
      " [0.86826163 0.13173837]\n",
      " [0.91679452 0.08320548]\n",
      " [0.84763056 0.15236944]\n",
      " [0.89253708 0.10746292]\n",
      " [0.62872105 0.37127895]\n",
      " [0.93875394 0.06124606]\n",
      " [0.72620329 0.27379671]\n",
      " [0.85652974 0.14347026]\n",
      " [0.84226023 0.15773977]\n",
      " [0.77436384 0.22563616]\n",
      " [0.71899555 0.28100445]\n",
      " [0.9358739  0.0641261 ]\n",
      " [0.95710071 0.04289929]\n",
      " [0.79185834 0.20814166]\n",
      " [0.89370439 0.10629561]\n",
      " [0.9138204  0.0861796 ]\n",
      " [0.7935459  0.2064541 ]\n",
      " [0.77934019 0.22065981]\n",
      " [0.79638982 0.20361018]\n",
      " [0.83800499 0.16199501]\n",
      " [0.71395664 0.28604336]\n",
      " [0.97772717 0.02227283]\n",
      " [0.94645975 0.05354025]\n",
      " [0.88617626 0.11382374]\n",
      " [0.79620165 0.20379835]\n",
      " [0.61863823 0.38136177]\n",
      " [0.8186647  0.1813353 ]\n",
      " [0.74504124 0.25495876]\n",
      " [0.86779495 0.13220505]\n",
      " [0.8707114  0.1292886 ]\n",
      " [0.81717467 0.18282533]\n",
      " [0.71840765 0.28159235]\n",
      " [0.59825882 0.40174118]\n",
      " [0.83951552 0.16048448]\n",
      " [0.88351326 0.11648674]\n",
      " [0.74352571 0.25647429]\n",
      " [0.76631618 0.23368382]\n",
      " [0.98033038 0.01966962]\n",
      " [0.91857469 0.08142531]\n",
      " [0.7743284  0.2256716 ]\n",
      " [0.92514817 0.07485183]\n",
      " [0.88123384 0.11876616]\n",
      " [0.7458717  0.2541283 ]\n",
      " [0.90478362 0.09521638]\n",
      " [0.78685517 0.21314483]\n",
      " [0.81147771 0.18852229]\n",
      " [0.93472172 0.06527828]\n",
      " [0.93836504 0.06163496]\n",
      " [0.79411744 0.20588256]\n",
      " [0.813729   0.186271  ]\n",
      " [0.9161092  0.0838908 ]\n",
      " [0.90428346 0.09571654]\n",
      " [0.84669421 0.15330579]\n",
      " [0.95384554 0.04615446]\n",
      " [0.91283692 0.08716308]\n",
      " [0.85919605 0.14080395]\n",
      " [0.85902497 0.14097503]\n",
      " [0.87519517 0.12480483]\n",
      " [0.76114666 0.23885334]\n",
      " [0.92217687 0.07782313]\n",
      " [0.96859411 0.03140589]\n",
      " [0.94398222 0.05601778]\n",
      " [0.81780289 0.18219711]\n",
      " [0.88058705 0.11941295]\n",
      " [0.77894286 0.22105714]\n",
      " [0.97124466 0.02875534]\n",
      " [0.88807662 0.11192338]\n",
      " [0.78715262 0.21284738]\n",
      " [0.8200148  0.1799852 ]\n",
      " [0.94934545 0.05065455]\n",
      " [0.95888935 0.04111065]\n",
      " [0.73559214 0.26440786]\n",
      " [0.93416998 0.06583002]\n",
      " [0.73750627 0.26249373]\n",
      " [0.82136746 0.17863254]\n",
      " [0.821712   0.178288  ]\n",
      " [0.89896704 0.10103296]\n",
      " [0.78745764 0.21254236]\n",
      " [0.8982535  0.1017465 ]\n",
      " [0.9143382  0.0856618 ]\n",
      " [0.92724744 0.07275256]\n",
      " [0.96594967 0.03405033]\n",
      " [0.94417368 0.05582632]\n",
      " [0.93073083 0.06926917]\n",
      " [0.66320576 0.33679424]\n",
      " [0.84168649 0.15831351]\n",
      " [0.82636815 0.17363185]\n",
      " [0.80616637 0.19383363]\n",
      " [0.96157634 0.03842366]\n",
      " [0.9351516  0.0648484 ]\n",
      " [0.94778627 0.05221373]\n",
      " [0.97337827 0.02662173]\n",
      " [0.79297051 0.20702949]\n",
      " [0.87770196 0.12229804]\n",
      " [0.86103661 0.13896339]\n",
      " [0.95185479 0.04814521]\n",
      " [0.93131494 0.06868506]\n",
      " [0.75685354 0.24314646]\n",
      " [0.74997796 0.25002204]\n",
      " [0.95527867 0.04472133]\n",
      " [0.86950723 0.13049277]\n",
      " [0.81376767 0.18623233]\n",
      " [0.76990616 0.23009384]\n",
      " [0.80077907 0.19922093]\n",
      " [0.92801122 0.07198878]\n",
      " [0.90949247 0.09050753]\n",
      " [0.94557628 0.05442372]\n",
      " [0.93330468 0.06669532]\n",
      " [0.69145897 0.30854103]\n",
      " [0.93056885 0.06943115]\n",
      " [0.74525418 0.25474582]\n",
      " [0.78594339 0.21405661]\n",
      " [0.93308602 0.06691398]\n",
      " [0.80878291 0.19121709]\n",
      " [0.85096457 0.14903543]\n",
      " [0.66956273 0.33043727]\n",
      " [0.9033838  0.0966162 ]\n",
      " [0.91158934 0.08841066]\n",
      " [0.87300498 0.12699502]\n",
      " [0.92939057 0.07060943]\n",
      " [0.66661713 0.33338287]\n",
      " [0.89098514 0.10901486]\n",
      " [0.86216705 0.13783295]\n",
      " [0.78838555 0.21161445]\n",
      " [0.53099595 0.46900405]\n",
      " [0.73344323 0.26655677]\n",
      " [0.7105398  0.2894602 ]\n",
      " [0.85530494 0.14469506]\n",
      " [0.86960594 0.13039406]\n",
      " [0.75470005 0.24529995]\n",
      " [0.89823514 0.10176486]\n",
      " [0.79247837 0.20752163]\n",
      " [0.90643145 0.09356855]\n",
      " [0.77650777 0.22349223]\n",
      " [0.88387788 0.11612212]\n",
      " [0.85404309 0.14595691]\n",
      " [0.81899356 0.18100644]\n",
      " [0.7444851  0.2555149 ]\n",
      " [0.86259433 0.13740567]\n",
      " [0.77822623 0.22177377]\n",
      " [0.76928322 0.23071678]\n",
      " [0.79679225 0.20320775]\n",
      " [0.92096591 0.07903409]\n",
      " [0.74573765 0.25426235]\n",
      " [0.87499229 0.12500771]\n",
      " [0.85503289 0.14496711]\n",
      " [0.77292149 0.22707851]\n",
      " [0.87227272 0.12772728]\n",
      " [0.67395346 0.32604654]\n",
      " [0.93621665 0.06378335]\n",
      " [0.82479478 0.17520522]\n",
      " [0.95146047 0.04853953]\n",
      " [0.83462449 0.16537551]\n",
      " [0.81106481 0.18893519]\n",
      " [0.80828254 0.19171746]\n",
      " [0.87664154 0.12335846]\n",
      " [0.6678699  0.3321301 ]\n",
      " [0.59616847 0.40383153]\n",
      " [0.98979366 0.01020634]\n",
      " [0.70634394 0.29365606]\n",
      " [0.91633093 0.08366907]\n",
      " [0.92133476 0.07866524]\n",
      " [0.71383908 0.28616092]\n",
      " [0.62453934 0.37546066]\n",
      " [0.76440576 0.23559424]\n",
      " [0.95401655 0.04598345]\n",
      " [0.88186724 0.11813276]\n",
      " [0.86019901 0.13980099]\n",
      " [0.92117381 0.07882619]\n",
      " [0.88019168 0.11980832]\n",
      " [0.80451424 0.19548576]\n",
      " [0.80585181 0.19414819]\n",
      " [0.91345494 0.08654506]\n",
      " [0.72101808 0.27898192]\n",
      " [0.94508005 0.05491995]\n",
      " [0.90906909 0.09093091]\n",
      " [0.73381746 0.26618254]\n",
      " [0.98109185 0.01890815]\n",
      " [0.85490447 0.14509553]\n",
      " [0.89817071 0.10182929]\n",
      " [0.82436992 0.17563008]\n",
      " [0.83387098 0.16612902]\n",
      " [0.88136648 0.11863352]\n",
      " [0.88031306 0.11968694]\n",
      " [0.87560621 0.12439379]\n",
      " [0.81617201 0.18382799]\n",
      " [0.88028848 0.11971152]\n",
      " [0.61530828 0.38469172]\n",
      " [0.88826159 0.11173841]\n",
      " [0.89692815 0.10307185]\n",
      " [0.85328926 0.14671074]\n",
      " [0.98297043 0.01702957]\n",
      " [0.77341236 0.22658764]\n",
      " [0.62184875 0.37815125]\n",
      " [0.82739135 0.17260865]\n",
      " [0.84083338 0.15916662]\n",
      " [0.84808604 0.15191396]\n",
      " [0.84937029 0.15062971]\n",
      " [0.75540981 0.24459019]\n",
      " [0.86188857 0.13811143]\n",
      " [0.9068469  0.0931531 ]\n",
      " [0.8466327  0.1533673 ]\n",
      " [0.81290902 0.18709098]\n",
      " [0.7405357  0.2594643 ]\n",
      " [0.87035277 0.12964723]\n",
      " [0.83938089 0.16061911]\n",
      " [0.86267947 0.13732053]\n",
      " [0.66362889 0.33637111]\n",
      " [0.90671716 0.09328284]\n",
      " [0.87056301 0.12943699]\n",
      " [0.92580792 0.07419208]\n",
      " [0.84386849 0.15613151]\n",
      " [0.8987814  0.1012186 ]\n",
      " [0.91239497 0.08760503]\n",
      " [0.7986763  0.2013237 ]\n",
      " [0.64052596 0.35947404]\n",
      " [0.84683942 0.15316058]\n",
      " [0.75503191 0.24496809]\n",
      " [0.85264542 0.14735458]\n",
      " [0.99251433 0.00748567]\n",
      " [0.86138218 0.13861782]\n",
      " [0.88140142 0.11859858]\n",
      " [0.82757085 0.17242915]\n",
      " [0.93027076 0.06972924]\n",
      " [0.87307441 0.12692559]\n",
      " [0.88802398 0.11197602]\n",
      " [0.83753315 0.16246685]\n",
      " [0.86481029 0.13518971]\n",
      " [0.86515551 0.13484449]\n",
      " [0.89754792 0.10245208]\n",
      " [0.78409085 0.21590915]\n",
      " [0.79165111 0.20834889]\n",
      " [0.88388121 0.11611879]\n",
      " [0.65418947 0.34581053]\n",
      " [0.94059381 0.05940619]\n",
      " [0.89913437 0.10086563]\n",
      " [0.72525609 0.27474391]\n",
      " [0.69085507 0.30914493]\n",
      " [0.87591631 0.12408369]\n",
      " [0.86562248 0.13437752]\n",
      " [0.97508878 0.02491122]\n",
      " [0.86265129 0.13734871]\n",
      " [0.54036059 0.45963941]\n",
      " [0.91302278 0.08697722]\n",
      " [0.74609581 0.25390419]\n",
      " [0.86758146 0.13241854]\n",
      " [0.88852755 0.11147245]\n",
      " [0.87911718 0.12088282]\n",
      " [0.85664962 0.14335038]\n",
      " [0.77281957 0.22718043]\n",
      " [0.80713984 0.19286016]\n",
      " [0.85285505 0.14714495]\n",
      " [0.77595544 0.22404456]\n",
      " [0.70409845 0.29590155]\n",
      " [0.88971656 0.11028344]\n",
      " [0.4896307  0.5103693 ]\n",
      " [0.92370652 0.07629348]\n",
      " [0.75572309 0.24427691]\n",
      " [0.67788847 0.32211153]\n",
      " [0.91301004 0.08698996]\n",
      " [0.94029214 0.05970786]\n",
      " [0.8800979  0.1199021 ]\n",
      " [0.8859117  0.1140883 ]\n",
      " [0.95656829 0.04343171]\n",
      " [0.89909425 0.10090575]\n",
      " [0.94784649 0.05215351]\n",
      " [0.83255771 0.16744229]\n",
      " [0.87822141 0.12177859]\n",
      " [0.81945797 0.18054203]\n",
      " [0.81668783 0.18331217]\n",
      " [0.95036172 0.04963828]\n",
      " [0.86940138 0.13059862]\n",
      " [0.90541601 0.09458399]\n",
      " [0.83661189 0.16338811]\n",
      " [0.84583646 0.15416354]\n",
      " [0.79307976 0.20692024]\n",
      " [0.81808123 0.18191877]\n",
      " [0.81598408 0.18401592]\n",
      " [0.83677553 0.16322447]\n",
      " [0.91443034 0.08556966]\n",
      " [0.91533088 0.08466912]\n",
      " [0.68503441 0.31496559]\n",
      " [0.99073759 0.00926241]\n",
      " [0.76795004 0.23204996]\n",
      " [0.79871922 0.20128078]\n",
      " [0.73176829 0.26823171]\n",
      " [0.67465182 0.32534818]\n",
      " [0.79712455 0.20287545]\n",
      " [0.84935619 0.15064381]\n",
      " [0.86467083 0.13532917]\n",
      " [0.85844153 0.14155847]\n",
      " [0.84533264 0.15466736]\n",
      " [0.83038803 0.16961197]\n",
      " [0.92192756 0.07807244]\n",
      " [0.8318972  0.1681028 ]\n",
      " [0.97707553 0.02292447]\n",
      " [0.90418236 0.09581764]\n",
      " [0.92691203 0.07308797]\n",
      " [0.84797355 0.15202645]\n",
      " [0.7671257  0.2328743 ]\n",
      " [0.94895159 0.05104841]\n",
      " [0.94782089 0.05217911]\n",
      " [0.75181501 0.24818499]\n",
      " [0.87880469 0.12119531]\n",
      " [0.80770785 0.19229215]\n",
      " [0.93864303 0.06135697]\n",
      " [0.86008491 0.13991509]\n",
      " [0.76056691 0.23943309]\n",
      " [0.90892476 0.09107524]\n",
      " [0.75402141 0.24597859]\n",
      " [0.94271844 0.05728156]\n",
      " [0.9182732  0.0817268 ]\n",
      " [0.90545128 0.09454872]\n",
      " [0.76879454 0.23120546]\n",
      " [0.92358139 0.07641861]\n",
      " [0.80705877 0.19294123]\n",
      " [0.90079529 0.09920471]\n",
      " [0.87933333 0.12066667]\n",
      " [0.80585688 0.19414312]\n",
      " [0.83150053 0.16849947]\n",
      " [0.53816763 0.46183237]\n",
      " [0.95031826 0.04968174]\n",
      " [0.73291897 0.26708103]\n",
      " [0.89182871 0.10817129]\n",
      " [0.80079854 0.19920146]\n",
      " [0.87739806 0.12260194]\n",
      " [0.96805232 0.03194768]\n",
      " [0.81741597 0.18258403]\n",
      " [0.86150092 0.13849908]\n",
      " [0.59407547 0.40592453]\n",
      " [0.82625734 0.17374266]\n",
      " [0.92534979 0.07465021]\n",
      " [0.81692203 0.18307797]\n",
      " [0.92586785 0.07413215]\n",
      " [0.89094605 0.10905395]\n",
      " [0.70071749 0.29928251]\n",
      " [0.82181894 0.17818106]\n",
      " [0.96589942 0.03410058]\n",
      " [0.86996989 0.13003011]\n",
      " [0.89918552 0.10081448]\n",
      " [0.88983802 0.11016198]\n",
      " [0.8143246  0.1856754 ]\n",
      " [0.8583004  0.1416996 ]\n",
      " [0.83878656 0.16121344]\n",
      " [0.84056579 0.15943421]\n",
      " [0.82661173 0.17338827]\n",
      " [0.9407517  0.0592483 ]\n",
      " [0.83183534 0.16816466]\n",
      " [0.77561353 0.22438647]\n",
      " [0.69399537 0.30600463]\n",
      " [0.85962129 0.14037871]\n",
      " [0.82513942 0.17486058]\n",
      " [0.84107714 0.15892286]\n",
      " [0.87191016 0.12808984]\n",
      " [0.89447655 0.10552345]\n",
      " [0.82945346 0.17054654]\n",
      " [0.72856787 0.27143213]\n",
      " [0.94692822 0.05307178]\n",
      " [0.960743   0.039257  ]\n",
      " [0.90500199 0.09499801]\n",
      " [0.88599991 0.11400009]\n",
      " [0.84865643 0.15134357]\n",
      " [0.79086971 0.20913029]\n",
      " [0.67302962 0.32697038]\n",
      " [0.9339021  0.0660979 ]\n",
      " [0.65644877 0.34355123]\n",
      " [0.74382846 0.25617154]\n",
      " [0.94248416 0.05751584]\n",
      " [0.78365678 0.21634322]\n",
      " [0.90655672 0.09344328]\n",
      " [0.81578728 0.18421272]\n",
      " [0.89149737 0.10850263]\n",
      " [0.85791874 0.14208126]\n",
      " [0.67453851 0.32546149]\n",
      " [0.93130398 0.06869602]\n",
      " [0.89999985 0.10000015]]\n"
     ]
    }
   ],
   "source": [
    "probs = model2.predict_proba(X_test)\n",
    "print(probs)"
   ]
  },
  {
   "cell_type": "code",
   "execution_count": 46,
   "metadata": {
    "ExecuteTime": {
     "end_time": "2021-07-14T07:23:17.878993Z",
     "start_time": "2021-07-14T07:23:17.859992Z"
    },
    "scrolled": true
   },
   "outputs": [
    {
     "name": "stdout",
     "output_type": "stream",
     "text": [
      "0.8435374149659864\n"
     ]
    }
   ],
   "source": [
    "from sklearn import metrics\n",
    "\n",
    "print(metrics.accuracy_score(y_test, predicted))"
   ]
  },
  {
   "cell_type": "code",
   "execution_count": 47,
   "metadata": {
    "ExecuteTime": {
     "end_time": "2021-07-14T07:23:17.917996Z",
     "start_time": "2021-07-14T07:23:17.879994Z"
    }
   },
   "outputs": [
    {
     "name": "stdout",
     "output_type": "stream",
     "text": [
      "0.6502502887947632\n"
     ]
    }
   ],
   "source": [
    "print(metrics.roc_auc_score(y_test, probs[:, 1]))"
   ]
  },
  {
   "cell_type": "code",
   "execution_count": 48,
   "metadata": {
    "ExecuteTime": {
     "end_time": "2021-07-14T07:23:17.956996Z",
     "start_time": "2021-07-14T07:23:17.919996Z"
    }
   },
   "outputs": [
    {
     "name": "stdout",
     "output_type": "stream",
     "text": [
      "[[371   0]\n",
      " [ 69   1]]\n"
     ]
    }
   ],
   "source": [
    "print(metrics.confusion_matrix(y_test, predicted))"
   ]
  },
  {
   "cell_type": "markdown",
   "metadata": {},
   "source": [
    "__Classification Report of the model__"
   ]
  },
  {
   "cell_type": "code",
   "execution_count": 49,
   "metadata": {
    "ExecuteTime": {
     "end_time": "2021-07-14T07:23:17.996996Z",
     "start_time": "2021-07-14T07:23:17.956996Z"
    }
   },
   "outputs": [
    {
     "name": "stdout",
     "output_type": "stream",
     "text": [
      "              precision    recall  f1-score   support\n",
      "\n",
      "         0.0       0.84      1.00      0.91       371\n",
      "         1.0       1.00      0.01      0.03        70\n",
      "\n",
      "    accuracy                           0.84       441\n",
      "   macro avg       0.92      0.51      0.47       441\n",
      "weighted avg       0.87      0.84      0.77       441\n",
      "\n"
     ]
    }
   ],
   "source": [
    "print (metrics.classification_report(y_test, predicted))"
   ]
  },
  {
   "cell_type": "code",
   "execution_count": 50,
   "metadata": {
    "ExecuteTime": {
     "end_time": "2021-07-14T07:23:18.036996Z",
     "start_time": "2021-07-14T07:23:17.996996Z"
    }
   },
   "outputs": [
    {
     "name": "stdout",
     "output_type": "stream",
     "text": [
      "      Intercept   Age  Department  DistanceFromHome  Education  \\\n",
      "338         1.0  30.0         2.0               5.0        3.0   \n",
      "363         1.0  33.0         2.0               5.0        3.0   \n",
      "759         1.0  45.0         3.0              24.0        4.0   \n",
      "793         1.0  28.0         1.0              15.0        2.0   \n",
      "581         1.0  30.0         1.0               1.0        3.0   \n",
      "...         ...   ...         ...               ...        ...   \n",
      "763         1.0  34.0         2.0              10.0        4.0   \n",
      "835         1.0  35.0         3.0               8.0        4.0   \n",
      "1216        1.0  43.0         2.0               2.0        3.0   \n",
      "559         1.0  38.0         1.0               2.0        5.0   \n",
      "684         1.0  40.0         2.0              10.0        4.0   \n",
      "\n",
      "      EducationField  YearsAtCompany  \n",
      "338              3.0            10.0  \n",
      "363              3.0             1.0  \n",
      "759              2.0             6.0  \n",
      "793              1.0             4.0  \n",
      "581              1.0             2.0  \n",
      "...              ...             ...  \n",
      "763              1.0             1.0  \n",
      "835              5.0             5.0  \n",
      "1216             2.0            10.0  \n",
      "559              2.0             1.0  \n",
      "684              3.0             1.0  \n",
      "\n",
      "[1029 rows x 7 columns]\n"
     ]
    }
   ],
   "source": [
    "print (X_train)"
   ]
  },
  {
   "cell_type": "code",
   "execution_count": 51,
   "metadata": {
    "ExecuteTime": {
     "end_time": "2021-07-14T07:23:18.086996Z",
     "start_time": "2021-07-14T07:23:18.036996Z"
    }
   },
   "outputs": [
    {
     "name": "stdout",
     "output_type": "stream",
     "text": [
      "[[6.25571917e-07 9.99999374e-01]]\n"
     ]
    }
   ],
   "source": [
    "#add random values to KK according to the parameters mentioned above to check the proabily of attrition of the employee\n",
    "kk=[[1.0, 23.0, 1.0, 500.0, 3.0, 24.0, 1.0]]\n",
    "print(model.predict_proba(kk))"
   ]
  },
  {
   "cell_type": "markdown",
   "metadata": {},
   "source": [
    "__According to the Performance Analysis, it can be concluded that the Machine Learning Predictive Model has been successful in effectively classifying 84.35% unknown (Validation Set) examples correctly and has shown quite descent statistical figures for different performance metrics.__"
   ]
  }
 ],
 "metadata": {
  "kernelspec": {
   "display_name": "Python 3",
   "language": "python",
   "name": "python3"
  },
  "language_info": {
   "codemirror_mode": {
    "name": "ipython",
    "version": 3
   },
   "file_extension": ".py",
   "mimetype": "text/x-python",
   "name": "python",
   "nbconvert_exporter": "python",
   "pygments_lexer": "ipython3",
   "version": "3.8.10"
  },
  "toc": {
   "base_numbering": 1,
   "nav_menu": {},
   "number_sections": true,
   "sideBar": true,
   "skip_h1_title": true,
   "title_cell": "Table of Contents",
   "title_sidebar": "Contents",
   "toc_cell": true,
   "toc_position": {
    "height": "calc(100% - 180px)",
    "left": "10px",
    "top": "150px",
    "width": "273.2px"
   },
   "toc_section_display": true,
   "toc_window_display": true
  }
 },
 "nbformat": 4,
 "nbformat_minor": 2
}
