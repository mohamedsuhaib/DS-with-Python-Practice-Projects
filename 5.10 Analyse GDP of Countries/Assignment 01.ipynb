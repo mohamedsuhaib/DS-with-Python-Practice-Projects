{
 "cells": [
  {
   "cell_type": "markdown",
   "metadata": {},
   "source": [
    "<img src=\"http://cfs22.simplicdn.net/ice9/new_logo.svgz \"/>\n",
    "\n",
    "# Assignment 01: Evaluate the GDP Dataset\n",
    "\n",
    "*The comments/sections provided are your cues to perform the assignment. You don't need to limit yourself to the number of rows/cells provided. You can add additional rows in each section to add more lines of code.*\n",
    "\n",
    "*If at any point in time you need help on solving this assignment, view our demo video to understand the different steps of the code.*\n",
    "\n",
    "**Happy coding!**\n",
    "\n",
    "* * *"
   ]
  },
  {
   "cell_type": "code",
   "execution_count": 5,
   "metadata": {},
   "outputs": [
    {
     "data": {
      "text/plain": [
       "'\\nDESCRIPTION\\n\\nProblem Statement: Evaluate the dataset containing the GDPs of different countries to:\\n\\n    Find and print the name of the country with the highest GDP\\n    Find and print the name of the country with the lowest GDP\\n    Print out text and input values iteratively\\n    Print out the entire list of the countries with their GDPs\\n    Print the highest GDP value, lowest GDP value, mean GDP value, standardized GDP value, and the sum of all the GDPs\\n\\nFollow the cues provided to complete the assignment.\\n'"
      ]
     },
     "execution_count": 5,
     "metadata": {},
     "output_type": "execute_result"
    }
   ],
   "source": [
    "\"\"\"\n",
    "DESCRIPTION\n",
    "\n",
    "Problem Statement: Evaluate the dataset containing the GDPs of different countries to:\n",
    "\n",
    "    Find and print the name of the country with the highest GDP\n",
    "    Find and print the name of the country with the lowest GDP\n",
    "    Print out text and input values iteratively\n",
    "    Print out the entire list of the countries with their GDPs\n",
    "    Print the highest GDP value, lowest GDP value, mean GDP value, standardized GDP value, and the sum of all the GDPs\n",
    "\n",
    "Follow the cues provided to complete the assignment.\n",
    "\"\"\""
   ]
  },
  {
   "cell_type": "markdown",
   "metadata": {},
   "source": [
    "#### 1: View and add the dataset"
   ]
  },
  {
   "cell_type": "code",
   "execution_count": 9,
   "metadata": {},
   "outputs": [],
   "source": [
    "#Import required library\n",
    "import numpy as np"
   ]
  },
  {
   "cell_type": "code",
   "execution_count": 10,
   "metadata": {},
   "outputs": [],
   "source": [
    "#Manually add the dataset\n",
    "Countries = np.array(['Algeria','Angola','Argentina','Australia','Austria','Bahamas','Bangladesh','Belarus','Belgium','Bhutan','Brazil','Bulgaria','Cambodia','Cameroon','Chile','China','Colombia','Cyprus','Denmark','El Salvador','Estonia','Ethiopia','Fiji','Finland','France','Georgia','Ghana','Grenada','Guinea','Haiti','Honduras','Hungary','India','Indonesia','Ireland','Italy','Japan','Kenya', 'South Korea','Liberia','Malaysia','Mexico', 'Morocco','Nepal','New Zealand','Norway','Pakistan', 'Peru','Qatar','Russia','Singapore','South Africa','Spain','Sweden','Switzerland','Thailand', 'United Arab Emirates','United Kingdom','United States','Uruguay','Venezuela','Vietnam','Zimbabwe'])\n",
    "GDP_of_Countries = np.array([2255.225482,629.9553062,11601.63022,25306.82494,27266.40335,19466.99052,588.3691778,2890.345675,24733.62696,1445.760002,4803.398244,2618.876037,590.4521124,665.7982328,7122.938458,2639.54156,3362.4656,15378.16704,30860.12808,2579.115607,6525.541272,229.6769525,2242.689259,27570.4852,23016.84778,1334.646773,402.6953275,6047.200797,394.1156638,385.5793827,1414.072488,5745.981529,837.7464011,1206.991065,27715.52837,18937.24998,39578.07441,478.2194906,16684.21278,279.2204061,5345.213415,6288.25324,1908.304416,274.8728621,14646.42094,40034.85063,672.1547506,3359.517402,36152.66676,3054.727742,33529.83052,3825.093781,15428.32098,33630.24604,39170.41371,2699.123242,21058.43643,28272.40661,37691.02733,9581.05659,5671.912202,757.4009286,347.7456605])"
   ]
  },
  {
   "cell_type": "markdown",
   "metadata": {
    "collapsed": true
   },
   "source": [
    "#### 2: Find and print the name of the country with the highest GDP"
   ]
  },
  {
   "cell_type": "code",
   "execution_count": 12,
   "metadata": {},
   "outputs": [
    {
     "name": "stdout",
     "output_type": "stream",
     "text": [
      "45\n"
     ]
    }
   ],
   "source": [
    "#Use the argmax() method to find the highest GDP\n",
    "highest_GDP = GDP_of_Countries.argmax()"
   ]
  },
  {
   "cell_type": "code",
   "execution_count": 16,
   "metadata": {},
   "outputs": [
    {
     "name": "stdout",
     "output_type": "stream",
     "text": [
      "Norway\n"
     ]
    }
   ],
   "source": [
    "#Print the name of the country\n",
    "Country_with_Highest_GDP=Countries[highest_GDP]\n",
    "print (Country_with_Highest_GDP)"
   ]
  },
  {
   "cell_type": "markdown",
   "metadata": {},
   "source": [
    "#### 3: Find and print the name of the country with the lowest GDP"
   ]
  },
  {
   "cell_type": "code",
   "execution_count": 17,
   "metadata": {},
   "outputs": [
    {
     "name": "stdout",
     "output_type": "stream",
     "text": [
      "21\n"
     ]
    }
   ],
   "source": [
    "#Use the argmin() method to find the lowest GDP\n",
    "lowest_GDP = GDP_of_Countries.argmin()"
   ]
  },
  {
   "cell_type": "code",
   "execution_count": 18,
   "metadata": {},
   "outputs": [
    {
     "name": "stdout",
     "output_type": "stream",
     "text": [
      "Ethiopia\n"
     ]
    }
   ],
   "source": [
    "#Print the name of the country\n",
    "Country_with_Lowest_GDP=Countries[lowest_GDP]\n",
    "print (Country_with_Lowest_GDP)"
   ]
  },
  {
   "cell_type": "markdown",
   "metadata": {},
   "source": [
    "#### 4: Print out text ('evaluating country') and input value ('country name') iteratively"
   ]
  },
  {
   "cell_type": "code",
   "execution_count": 33,
   "metadata": {},
   "outputs": [
    {
     "name": "stdout",
     "output_type": "stream",
     "text": [
      "Evalating country Algeria\n",
      "Evalating country Angola\n",
      "Evalating country Argentina\n",
      "Evalating country Australia\n",
      "Evalating country Austria\n",
      "Evalating country Bahamas\n",
      "Evalating country Bangladesh\n",
      "Evalating country Belarus\n",
      "Evalating country Belgium\n",
      "Evalating country Bhutan\n",
      "Evalating country Brazil\n",
      "Evalating country Bulgaria\n",
      "Evalating country Cambodia\n",
      "Evalating country Cameroon\n",
      "Evalating country Chile\n",
      "Evalating country China\n",
      "Evalating country Colombia\n",
      "Evalating country Cyprus\n",
      "Evalating country Denmark\n",
      "Evalating country El Salvador\n",
      "Evalating country Estonia\n",
      "Evalating country Ethiopia\n",
      "Evalating country Fiji\n",
      "Evalating country Finland\n",
      "Evalating country France\n",
      "Evalating country Georgia\n",
      "Evalating country Ghana\n",
      "Evalating country Grenada\n",
      "Evalating country Guinea\n",
      "Evalating country Haiti\n",
      "Evalating country Honduras\n",
      "Evalating country Hungary\n",
      "Evalating country India\n",
      "Evalating country Indonesia\n",
      "Evalating country Ireland\n",
      "Evalating country Italy\n",
      "Evalating country Japan\n",
      "Evalating country Kenya\n",
      "Evalating country South Korea\n",
      "Evalating country Liberia\n",
      "Evalating country Malaysia\n",
      "Evalating country Mexico\n",
      "Evalating country Morocco\n",
      "Evalating country Nepal\n",
      "Evalating country New Zealand\n",
      "Evalating country Norway\n",
      "Evalating country Pakistan\n",
      "Evalating country Peru\n",
      "Evalating country Qatar\n",
      "Evalating country Russia\n",
      "Evalating country Singapore\n",
      "Evalating country South Africa\n",
      "Evalating country Spain\n",
      "Evalating country Sweden\n",
      "Evalating country Switzerland\n",
      "Evalating country Thailand\n",
      "Evalating country United Arab Emirates\n",
      "Evalating country United Kingdom\n",
      "Evalating country United States\n",
      "Evalating country Uruguay\n",
      "Evalating country Venezuela\n",
      "Evalating country Vietnam\n",
      "Evalating country Zimbabwe\n"
     ]
    }
   ],
   "source": [
    "#Use a for loop to print the required output\n",
    "for country in Countries:\n",
    "    print ('Evalating country {}'.format(country))"
   ]
  },
  {
   "cell_type": "markdown",
   "metadata": {},
   "source": [
    "#### 5: Print out the entire list of the countries with their GDPs"
   ]
  },
  {
   "cell_type": "code",
   "execution_count": 37,
   "metadata": {},
   "outputs": [
    {
     "name": "stdout",
     "output_type": "stream",
     "text": [
      "Algeria's GDP is 2255.225482\n",
      "Angola's GDP is 629.9553062\n",
      "Argentina's GDP is 11601.63022\n",
      "Australia's GDP is 25306.82494\n",
      "Austria's GDP is 27266.40335\n",
      "Bahamas's GDP is 19466.99052\n",
      "Bangladesh's GDP is 588.3691778\n",
      "Belarus's GDP is 2890.345675\n",
      "Belgium's GDP is 24733.62696\n",
      "Bhutan's GDP is 1445.760002\n",
      "Brazil's GDP is 4803.398244\n",
      "Bulgaria's GDP is 2618.876037\n",
      "Cambodia's GDP is 590.4521124\n",
      "Cameroon's GDP is 665.7982328\n",
      "Chile's GDP is 7122.938458\n",
      "China's GDP is 2639.54156\n",
      "Colombia's GDP is 3362.4656\n",
      "Cyprus's GDP is 15378.16704\n",
      "Denmark's GDP is 30860.12808\n",
      "El Salvador's GDP is 2579.115607\n",
      "Estonia's GDP is 6525.541272\n",
      "Ethiopia's GDP is 229.6769525\n",
      "Fiji's GDP is 2242.689259\n",
      "Finland's GDP is 27570.4852\n",
      "France's GDP is 23016.84778\n",
      "Georgia's GDP is 1334.646773\n",
      "Ghana's GDP is 402.6953275\n",
      "Grenada's GDP is 6047.200797\n",
      "Guinea's GDP is 394.1156638\n",
      "Haiti's GDP is 385.5793827\n",
      "Honduras's GDP is 1414.072488\n",
      "Hungary's GDP is 5745.981529\n",
      "India's GDP is 837.7464011\n",
      "Indonesia's GDP is 1206.991065\n",
      "Ireland's GDP is 27715.52837\n",
      "Italy's GDP is 18937.24998\n",
      "Japan's GDP is 39578.07441\n",
      "Kenya's GDP is 478.2194906\n",
      "South Korea's GDP is 16684.21278\n",
      "Liberia's GDP is 279.2204061\n",
      "Malaysia's GDP is 5345.213415\n",
      "Mexico's GDP is 6288.25324\n",
      "Morocco's GDP is 1908.304416\n",
      "Nepal's GDP is 274.8728621\n",
      "New Zealand's GDP is 14646.42094\n",
      "Norway's GDP is 40034.85063\n",
      "Pakistan's GDP is 672.1547506\n",
      "Peru's GDP is 3359.517402\n",
      "Qatar's GDP is 36152.66676\n",
      "Russia's GDP is 3054.727742\n",
      "Singapore's GDP is 33529.83052\n",
      "South Africa's GDP is 3825.093781\n",
      "Spain's GDP is 15428.32098\n",
      "Sweden's GDP is 33630.24604\n",
      "Switzerland's GDP is 39170.41371\n",
      "Thailand's GDP is 2699.123242\n",
      "United Arab Emirates's GDP is 21058.43643\n",
      "United Kingdom's GDP is 28272.40661\n",
      "United States's GDP is 37691.02733\n",
      "Uruguay's GDP is 9581.05659\n",
      "Venezuela's GDP is 5671.912202\n",
      "Vietnam's GDP is 757.4009286\n",
      "Zimbabwe's GDP is 347.7456605\n"
     ]
    }
   ],
   "source": [
    "#Use a for loop to print the required list\n",
    "for i in range(len(GDP_of_Countries)):\n",
    "    country=Countries[i]\n",
    "    GDP=GDP_of_Countries[i]\n",
    "    print ('{}\\'s GDP is {}'.format(country,GDP))"
   ]
  },
  {
   "cell_type": "markdown",
   "metadata": {},
   "source": [
    "#### 6: Print the following:\n",
    "1. Highest GPD value\n",
    "2. Lowest GDP value\n",
    "3. Mean GDP value\n",
    "4. Standardized GDP value\n",
    "5. Sum of all the GDPs"
   ]
  },
  {
   "cell_type": "code",
   "execution_count": 43,
   "metadata": {},
   "outputs": [
    {
     "name": "stdout",
     "output_type": "stream",
     "text": [
      "40034.85063\n",
      "229.6769525\n",
      "11289.409271639683\n",
      "12743.828910617945\n",
      "711232.7841133\n"
     ]
    }
   ],
   "source": [
    "print(GDP_of_Countries.max())\n",
    "print(GDP_of_Countries.min())\n",
    "print(GDP_of_Countries.mean())\n",
    "print(GDP_of_Countries.std())\n",
    "print(GDP_of_Countries.sum())"
   ]
  },
  {
   "cell_type": "code",
   "execution_count": null,
   "metadata": {},
   "outputs": [],
   "source": []
  }
 ],
 "metadata": {
  "kernelspec": {
   "display_name": "Python 3",
   "language": "python",
   "name": "python3"
  },
  "language_info": {
   "codemirror_mode": {
    "name": "ipython",
    "version": 3
   },
   "file_extension": ".py",
   "mimetype": "text/x-python",
   "name": "python",
   "nbconvert_exporter": "python",
   "pygments_lexer": "ipython3",
   "version": "3.8.10"
  }
 },
 "nbformat": 4,
 "nbformat_minor": 1
}
