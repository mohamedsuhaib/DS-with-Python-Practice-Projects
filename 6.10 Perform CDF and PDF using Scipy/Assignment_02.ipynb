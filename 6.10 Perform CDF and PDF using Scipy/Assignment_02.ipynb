{
 "cells": [
  {
   "cell_type": "markdown",
   "metadata": {
    "collapsed": true
   },
   "source": [
    "<img src=\"http://cfs22.simplicdn.net/ice9/new_logo.svgz \"/>\n",
    "\n",
    "# Assignment 02: Perform CDF and PDF\n",
    "\n",
    "*The comments/sections provided are your cues to perform the assignment. You don't need to limit yourself to the number of rows/cells provided. You can add additional rows in each section to add more lines of code.*\n",
    "\n",
    "*If at any point in time you need help on solving this assignment, view our demo video to understand the different steps of the code.*\n",
    "\n",
    "**Happy coding!**\n",
    "\n",
    "* * *"
   ]
  },
  {
   "cell_type": "code",
   "execution_count": null,
   "metadata": {},
   "outputs": [],
   "source": [
    "\"\"\"Perform CDF and PDF using Scipy\n",
    "\n",
    "DESCRIPTION\n",
    "\n",
    "Problem:\n",
    "\n",
    "Use SciPy to declare 20 random values for random values and perform the following:\n",
    "\n",
    "1. CDF – Cumulative Distribution Function for a random variable 10\n",
    "\n",
    "2. PDF – Probability Density Function for a random variable 14.\"\"\""
   ]
  },
  {
   "cell_type": "markdown",
   "metadata": {},
   "source": [
    "#### 1: Import required library\n"
   ]
  },
  {
   "cell_type": "code",
   "execution_count": 1,
   "metadata": {},
   "outputs": [
    {
     "data": {
      "text/plain": [
       "array([-0.89635134,  0.47952348,  1.08893361,  1.51720562, -0.10306936,\n",
       "        0.80409566,  1.38814394,  1.16036486,  0.85383647, -0.27097295,\n",
       "       -0.79994655, -0.41627877, -0.50270829,  0.03863493,  0.1921456 ,\n",
       "       -0.15592108, -0.3622249 , -0.2676438 ,  0.78463762,  0.92451046])"
      ]
     },
     "execution_count": 1,
     "metadata": {},
     "output_type": "execute_result"
    }
   ],
   "source": [
    "#importing norm from scipy.stats for normal distribution\n",
    "from scipy.stats import norm\n",
    "#creating Random Variables\n",
    "norm.rvs(loc=0,scale=1,size=20)"
   ]
  },
  {
   "cell_type": "markdown",
   "metadata": {},
   "source": [
    "#### 2: Perfrom Cumulative Distribution Function or CDF on variables, with loc 1 and scale 3\n"
   ]
  },
  {
   "cell_type": "code",
   "execution_count": 2,
   "metadata": {},
   "outputs": [
    {
     "data": {
      "text/plain": [
       "0.9986501019683699"
      ]
     },
     "execution_count": 2,
     "metadata": {},
     "output_type": "execute_result"
    }
   ],
   "source": [
    "#Performing CDF for a random value 10, with loc 1 and scale 3\n",
    "norm.cdf(10,loc=1,scale=3)"
   ]
  },
  {
   "cell_type": "markdown",
   "metadata": {
    "collapsed": true
   },
   "source": [
    "#### 3: Perfrom Probability Density Function or PDF on variables, with loc 1 and scale 1"
   ]
  },
  {
   "cell_type": "code",
   "execution_count": 10,
   "metadata": {},
   "outputs": [
    {
     "data": {
      "text/plain": [
       "7.998827757006813e-38"
      ]
     },
     "execution_count": 10,
     "metadata": {},
     "output_type": "execute_result"
    }
   ],
   "source": [
    "#Performing PDF for a random value 14, with loc 1 and scale 1\n",
    "norm.pdf(14,loc=1,scale=1)"
   ]
  },
  {
   "cell_type": "code",
   "execution_count": null,
   "metadata": {},
   "outputs": [],
   "source": []
  }
 ],
 "metadata": {
  "kernelspec": {
   "display_name": "Python 3",
   "language": "python",
   "name": "python3"
  },
  "language_info": {
   "codemirror_mode": {
    "name": "ipython",
    "version": 3
   },
   "file_extension": ".py",
   "mimetype": "text/x-python",
   "name": "python",
   "nbconvert_exporter": "python",
   "pygments_lexer": "ipython3",
   "version": "3.8.5"
  }
 },
 "nbformat": 4,
 "nbformat_minor": 1
}
