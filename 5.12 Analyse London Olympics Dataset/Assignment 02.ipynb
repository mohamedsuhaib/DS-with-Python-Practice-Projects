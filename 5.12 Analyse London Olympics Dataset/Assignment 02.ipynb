{
 "cells": [
  {
   "cell_type": "markdown",
   "metadata": {},
   "source": [
    "<img src=\"http://cfs22.simplicdn.net/ice9/new_logo.svgz \"/>\n",
    "\n",
    "# Assignment 02: Evaluate the Summer Olympics, London 2012 dataset\n",
    "\n",
    "*The comments/sections provided are your cues to perform the assignment. You don't need to limit yourself to the number of rows/cells provided. You can add additional rows in each section to add more lines of code.*\n",
    "\n",
    "*If at any point in time you need help on solving this assignment, view our demo video to understand the different steps of the code.*\n",
    "\n",
    "**Happy coding!**\n",
    "\n",
    "* * *"
   ]
  },
  {
   "cell_type": "markdown",
   "metadata": {},
   "source": [
    "\n",
    "__Analyse London Olympics Dataset__\n",
    "\n",
    "__DESCRIPTION__\n",
    "\n",
    "Problem: \n",
    "\n",
    "Evaluate the dataset of the Summer Olympics, London 2012 to:\n",
    "\n",
    "    Find and print the name of the country that won maximum gold medals,\n",
    "    Find and print the countries who won more than 20 gold medals,\n",
    "    Print the medal tally,\n",
    "    Print each country name with the corresponding number of gold medals, and\n",
    "    Print each country's name with the total number of medals won."
   ]
  },
  {
   "cell_type": "markdown",
   "metadata": {},
   "source": [
    "#### 1: View and add the dataset"
   ]
  },
  {
   "cell_type": "code",
   "execution_count": 1,
   "metadata": {
    "ExecuteTime": {
     "end_time": "2021-06-20T11:36:28.856067Z",
     "start_time": "2021-06-20T11:36:27.591995Z"
    }
   },
   "outputs": [],
   "source": [
    "#Import the necessary library\n",
    "import numpy as np"
   ]
  },
  {
   "cell_type": "code",
   "execution_count": 2,
   "metadata": {
    "ExecuteTime": {
     "end_time": "2021-06-20T11:36:28.862067Z",
     "start_time": "2021-06-20T11:36:28.857067Z"
    }
   },
   "outputs": [],
   "source": [
    "#Manually add the Summer Olympics, London 2012 dataset as arrays\n",
    "np_countries = np.array(['GBR','CHN','RUS','US','KOR','JPN','GER'])\n",
    "np_Olympics2012_golds = np.array([29,38,24,46,13,7,11])\n",
    "np_Olympics2012_silvers = np.array([17,28,25,28,8,14,11])\n",
    "np_Olympics2012_bronzes = np.array([19,22,32,29,7,17,14])"
   ]
  },
  {
   "cell_type": "markdown",
   "metadata": {},
   "source": [
    "#### Find the country with maximum gold medals"
   ]
  },
  {
   "cell_type": "code",
   "execution_count": 3,
   "metadata": {
    "ExecuteTime": {
     "end_time": "2021-06-20T11:36:32.100253Z",
     "start_time": "2021-06-20T11:36:32.095252Z"
    }
   },
   "outputs": [],
   "source": [
    "#Use the argmax() method to find the highest number of gold medals\n",
    "np_Olympics2012_max_golds=np_Olympics2012_golds.argmax()"
   ]
  },
  {
   "cell_type": "code",
   "execution_count": 4,
   "metadata": {
    "ExecuteTime": {
     "end_time": "2021-06-20T11:36:34.258376Z",
     "start_time": "2021-06-20T11:36:34.240375Z"
    }
   },
   "outputs": [
    {
     "data": {
      "text/plain": [
       "3"
      ]
     },
     "execution_count": 4,
     "metadata": {},
     "output_type": "execute_result"
    }
   ],
   "source": [
    "np_Olympics2012_max_golds"
   ]
  },
  {
   "cell_type": "code",
   "execution_count": 5,
   "metadata": {
    "ExecuteTime": {
     "end_time": "2021-06-20T11:36:35.435443Z",
     "start_time": "2021-06-20T11:36:35.423443Z"
    }
   },
   "outputs": [
    {
     "name": "stdout",
     "output_type": "stream",
     "text": [
      "US\n"
     ]
    }
   ],
   "source": [
    "#Print the name of the country\n",
    "print(np_countries[np_Olympics2012_max_golds])"
   ]
  },
  {
   "cell_type": "markdown",
   "metadata": {},
   "source": [
    "#### Find the countries with more than 20 gold medals"
   ]
  },
  {
   "cell_type": "code",
   "execution_count": 6,
   "metadata": {
    "ExecuteTime": {
     "end_time": "2021-06-20T11:36:37.041535Z",
     "start_time": "2021-06-20T11:36:37.037535Z"
    },
    "scrolled": true
   },
   "outputs": [
    {
     "name": "stdout",
     "output_type": "stream",
     "text": [
      "['GBR' 'CHN' 'RUS' 'US']\n"
     ]
    }
   ],
   "source": [
    "#Use Boolean indexing technique to find the required output\n",
    "print (np_countries[np_Olympics2012_golds>20])"
   ]
  },
  {
   "cell_type": "markdown",
   "metadata": {},
   "source": [
    "#### Evaluate the dataset and print the name of each country with its gold medals and total number of medals"
   ]
  },
  {
   "cell_type": "code",
   "execution_count": 7,
   "metadata": {
    "ExecuteTime": {
     "end_time": "2021-06-20T11:38:23.996653Z",
     "start_time": "2021-06-20T11:38:23.984652Z"
    },
    "scrolled": true
   },
   "outputs": [
    {
     "name": "stdout",
     "output_type": "stream",
     "text": [
      "Medal Tally by Gold\n",
      "Rank: 1 Country: US Gold: 46 Silver: 28 Bronze: 29 Total_Medals: 103\n",
      "Rank: 2 Country: CHN Gold: 38 Silver: 28 Bronze: 22 Total_Medals: 88\n",
      "Rank: 3 Country: GBR Gold: 29 Silver: 17 Bronze: 19 Total_Medals: 65\n",
      "Rank: 4 Country: RUS Gold: 24 Silver: 25 Bronze: 32 Total_Medals: 81\n",
      "Rank: 5 Country: KOR Gold: 13 Silver: 8 Bronze: 7 Total_Medals: 28\n",
      "Rank: 6 Country: GER Gold: 11 Silver: 11 Bronze: 14 Total_Medals: 36\n",
      "Rank: 7 Country: JPN Gold: 7 Silver: 14 Bronze: 17 Total_Medals: 38\n"
     ]
    }
   ],
   "source": [
    "#Creating an array by Sorting the Golds in descending order.\n",
    "#note: argsort() output gives the index positions only.\n",
    "#Sort_by_Gold has the index positions of Golds in descending order.\n",
    "Sort_by_Gold=np_Olympics2012_golds.argsort()[::-1]\n",
    "#using Sort_by_Gold value to create an new array with reference to total no. of Gold\n",
    "Countries_by_Gold=np_countries[Sort_by_Gold]\n",
    "Sorted_Gold_Tally=np_Olympics2012_golds[Sort_by_Gold]\n",
    "Sorted_Silver_Tally=np_Olympics2012_silvers[Sort_by_Gold]\n",
    "Sorted_Bronze_Tally=np_Olympics2012_bronzes[Sort_by_Gold]\n",
    "print('Medal Tally by Gold')\n",
    "#Use a for loop to create the required output\n",
    "for i in range(len(np_countries)):\n",
    "    total_medals=Sorted_Gold_Tally[i]+Sorted_Silver_Tally[i]+Sorted_Bronze_Tally[i]\n",
    "    print ('Rank: {} Country: {} Gold: {} Silver: {} Bronze: {} Total_Medals: {}'.format(i+1,Countries_by_Gold[i],Sorted_Gold_Tally[i],Sorted_Silver_Tally[i],Sorted_Bronze_Tally[i],total_medals))"
   ]
  },
  {
   "cell_type": "code",
   "execution_count": null,
   "metadata": {},
   "outputs": [],
   "source": []
  }
 ],
 "metadata": {
  "kernelspec": {
   "display_name": "Python 3",
   "language": "python",
   "name": "python3"
  },
  "language_info": {
   "codemirror_mode": {
    "name": "ipython",
    "version": 3
   },
   "file_extension": ".py",
   "mimetype": "text/x-python",
   "name": "python",
   "nbconvert_exporter": "python",
   "pygments_lexer": "ipython3",
   "version": "3.8.10"
  },
  "toc": {
   "base_numbering": 1,
   "nav_menu": {},
   "number_sections": true,
   "sideBar": true,
   "skip_h1_title": false,
   "title_cell": "Table of Contents",
   "title_sidebar": "Contents",
   "toc_cell": false,
   "toc_position": {},
   "toc_section_display": true,
   "toc_window_display": false
  }
 },
 "nbformat": 4,
 "nbformat_minor": 1
}
